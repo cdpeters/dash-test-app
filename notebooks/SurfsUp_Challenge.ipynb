{
 "cells": [
  {
   "cell_type": "code",
   "execution_count": 1,
   "metadata": {},
   "outputs": [
    {
     "name": "stderr",
     "output_type": "stream",
     "text": [
      "C:\\Users\\cdpet\\anaconda3\\envs\\PythonData\\lib\\site-packages\\numpy\\__init__.py:143: UserWarning: mkl-service package failed to import, therefore Intel(R) MKL initialization ensuring its correct out-of-the box operation under condition when Gnu OpenMP had already been loaded by Python process is not assured. Please install mkl-service package, see http://github.com/IntelPython/mkl-service\n",
      "  from . import _distributor_init\n"
     ]
    },
    {
     "ename": "ImportError",
     "evalue": "\n\nIMPORTANT: PLEASE READ THIS FOR ADVICE ON HOW TO SOLVE THIS ISSUE!\n\nImporting the numpy C-extensions failed. This error can happen for\nmany reasons, often due to issues with your setup or how NumPy was\ninstalled.\n\nWe have compiled some common reasons and troubleshooting tips at:\n\n    https://numpy.org/devdocs/user/troubleshooting-importerror.html\n\nPlease note and check the following:\n\n  * The Python version is: Python3.7 from \"C:\\Users\\cdpet\\anaconda3\\envs\\PythonData\\python.exe\"\n  * The NumPy version is: \"1.20.3\"\n\nand make sure that they are the versions you expect.\nPlease carefully study the documentation linked above for further help.\n\nOriginal error was: DLL load failed: The specified module could not be found.\n",
     "output_type": "error",
     "traceback": [
      "\u001b[1;31m---------------------------------------------------------------------\u001b[0m",
      "\u001b[1;31mImportError\u001b[0m                         Traceback (most recent call last)",
      "\u001b[1;32m~\\anaconda3\\envs\\PythonData\\lib\\site-packages\\numpy\\core\\__init__.py\u001b[0m in \u001b[0;36m<module>\u001b[1;34m\u001b[0m\n\u001b[0;32m     21\u001b[0m \u001b[1;32mtry\u001b[0m\u001b[1;33m:\u001b[0m\u001b[1;33m\u001b[0m\u001b[1;33m\u001b[0m\u001b[0m\n\u001b[1;32m---> 22\u001b[1;33m     \u001b[1;32mfrom\u001b[0m \u001b[1;33m.\u001b[0m \u001b[1;32mimport\u001b[0m \u001b[0mmultiarray\u001b[0m\u001b[1;33m\u001b[0m\u001b[1;33m\u001b[0m\u001b[0m\n\u001b[0m\u001b[0;32m     23\u001b[0m \u001b[1;32mexcept\u001b[0m \u001b[0mImportError\u001b[0m \u001b[1;32mas\u001b[0m \u001b[0mexc\u001b[0m\u001b[1;33m:\u001b[0m\u001b[1;33m\u001b[0m\u001b[1;33m\u001b[0m\u001b[0m\n",
      "\u001b[1;32m~\\anaconda3\\envs\\PythonData\\lib\\site-packages\\numpy\\core\\multiarray.py\u001b[0m in \u001b[0;36m<module>\u001b[1;34m\u001b[0m\n\u001b[0;32m     11\u001b[0m \u001b[1;33m\u001b[0m\u001b[0m\n\u001b[1;32m---> 12\u001b[1;33m \u001b[1;32mfrom\u001b[0m \u001b[1;33m.\u001b[0m \u001b[1;32mimport\u001b[0m \u001b[0moverrides\u001b[0m\u001b[1;33m\u001b[0m\u001b[1;33m\u001b[0m\u001b[0m\n\u001b[0m\u001b[0;32m     13\u001b[0m \u001b[1;32mfrom\u001b[0m \u001b[1;33m.\u001b[0m \u001b[1;32mimport\u001b[0m \u001b[0m_multiarray_umath\u001b[0m\u001b[1;33m\u001b[0m\u001b[1;33m\u001b[0m\u001b[0m\n",
      "\u001b[1;32m~\\anaconda3\\envs\\PythonData\\lib\\site-packages\\numpy\\core\\overrides.py\u001b[0m in \u001b[0;36m<module>\u001b[1;34m\u001b[0m\n\u001b[0;32m      6\u001b[0m \u001b[1;33m\u001b[0m\u001b[0m\n\u001b[1;32m----> 7\u001b[1;33m from numpy.core._multiarray_umath import (\n\u001b[0m\u001b[0;32m      8\u001b[0m     add_docstring, implement_array_function, _get_implementing_args)\n",
      "\u001b[1;31mImportError\u001b[0m: DLL load failed: The specified module could not be found.",
      "\nDuring handling of the above exception, another exception occurred:\n",
      "\u001b[1;31mImportError\u001b[0m                         Traceback (most recent call last)",
      "\u001b[1;32m~\\AppData\\Local\\Temp/ipykernel_16580/2546583632.py\u001b[0m in \u001b[0;36m<module>\u001b[1;34m\u001b[0m\n\u001b[0;32m      1\u001b[0m \u001b[1;32mimport\u001b[0m \u001b[0mdatetime\u001b[0m \u001b[1;32mas\u001b[0m \u001b[0mdt\u001b[0m\u001b[1;33m\u001b[0m\u001b[1;33m\u001b[0m\u001b[0m\n\u001b[0;32m      2\u001b[0m \u001b[1;33m\u001b[0m\u001b[0m\n\u001b[1;32m----> 3\u001b[1;33m \u001b[1;32mfrom\u001b[0m \u001b[0mmatplotlib\u001b[0m\u001b[1;33m.\u001b[0m\u001b[0mpatches\u001b[0m \u001b[1;32mimport\u001b[0m \u001b[0mRectangle\u001b[0m\u001b[1;33m\u001b[0m\u001b[1;33m\u001b[0m\u001b[0m\n\u001b[0m\u001b[0;32m      4\u001b[0m \u001b[1;32mimport\u001b[0m \u001b[0mnumpy\u001b[0m \u001b[1;32mas\u001b[0m \u001b[0mnp\u001b[0m\u001b[1;33m\u001b[0m\u001b[1;33m\u001b[0m\u001b[0m\n\u001b[0;32m      5\u001b[0m \u001b[1;32mimport\u001b[0m \u001b[0mpandas\u001b[0m \u001b[1;32mas\u001b[0m \u001b[0mpd\u001b[0m\u001b[1;33m\u001b[0m\u001b[1;33m\u001b[0m\u001b[0m\n",
      "\u001b[1;32m~\\anaconda3\\envs\\PythonData\\lib\\site-packages\\matplotlib\\__init__.py\u001b[0m in \u001b[0;36m<module>\u001b[1;34m\u001b[0m\n\u001b[0;32m    102\u001b[0m \u001b[1;32mimport\u001b[0m \u001b[0mwarnings\u001b[0m\u001b[1;33m\u001b[0m\u001b[1;33m\u001b[0m\u001b[0m\n\u001b[0;32m    103\u001b[0m \u001b[1;33m\u001b[0m\u001b[0m\n\u001b[1;32m--> 104\u001b[1;33m \u001b[1;32mimport\u001b[0m \u001b[0mnumpy\u001b[0m\u001b[1;33m\u001b[0m\u001b[1;33m\u001b[0m\u001b[0m\n\u001b[0m\u001b[0;32m    105\u001b[0m \u001b[1;32mfrom\u001b[0m \u001b[0mpackaging\u001b[0m\u001b[1;33m.\u001b[0m\u001b[0mversion\u001b[0m \u001b[1;32mimport\u001b[0m \u001b[0mparse\u001b[0m \u001b[1;32mas\u001b[0m \u001b[0mparse_version\u001b[0m\u001b[1;33m\u001b[0m\u001b[1;33m\u001b[0m\u001b[0m\n\u001b[0;32m    106\u001b[0m \u001b[1;33m\u001b[0m\u001b[0m\n",
      "\u001b[1;32m~\\anaconda3\\envs\\PythonData\\lib\\site-packages\\numpy\\__init__.py\u001b[0m in \u001b[0;36m<module>\u001b[1;34m\u001b[0m\n\u001b[0;32m    143\u001b[0m     \u001b[1;32mfrom\u001b[0m \u001b[1;33m.\u001b[0m \u001b[1;32mimport\u001b[0m \u001b[0m_distributor_init\u001b[0m\u001b[1;33m\u001b[0m\u001b[1;33m\u001b[0m\u001b[0m\n\u001b[0;32m    144\u001b[0m \u001b[1;33m\u001b[0m\u001b[0m\n\u001b[1;32m--> 145\u001b[1;33m     \u001b[1;32mfrom\u001b[0m \u001b[1;33m.\u001b[0m \u001b[1;32mimport\u001b[0m \u001b[0mcore\u001b[0m\u001b[1;33m\u001b[0m\u001b[1;33m\u001b[0m\u001b[0m\n\u001b[0m\u001b[0;32m    146\u001b[0m     \u001b[1;32mfrom\u001b[0m \u001b[1;33m.\u001b[0m\u001b[0mcore\u001b[0m \u001b[1;32mimport\u001b[0m \u001b[1;33m*\u001b[0m\u001b[1;33m\u001b[0m\u001b[1;33m\u001b[0m\u001b[0m\n\u001b[0;32m    147\u001b[0m     \u001b[1;32mfrom\u001b[0m \u001b[1;33m.\u001b[0m \u001b[1;32mimport\u001b[0m \u001b[0mcompat\u001b[0m\u001b[1;33m\u001b[0m\u001b[1;33m\u001b[0m\u001b[0m\n",
      "\u001b[1;32m~\\anaconda3\\envs\\PythonData\\lib\\site-packages\\numpy\\core\\__init__.py\u001b[0m in \u001b[0;36m<module>\u001b[1;34m\u001b[0m\n\u001b[0;32m     46\u001b[0m \"\"\" % (sys.version_info[0], sys.version_info[1], sys.executable,\n\u001b[0;32m     47\u001b[0m         __version__, exc)\n\u001b[1;32m---> 48\u001b[1;33m     \u001b[1;32mraise\u001b[0m \u001b[0mImportError\u001b[0m\u001b[1;33m(\u001b[0m\u001b[0mmsg\u001b[0m\u001b[1;33m)\u001b[0m\u001b[1;33m\u001b[0m\u001b[1;33m\u001b[0m\u001b[0m\n\u001b[0m\u001b[0;32m     49\u001b[0m \u001b[1;32mfinally\u001b[0m\u001b[1;33m:\u001b[0m\u001b[1;33m\u001b[0m\u001b[1;33m\u001b[0m\u001b[0m\n\u001b[0;32m     50\u001b[0m     \u001b[1;32mfor\u001b[0m \u001b[0menvkey\u001b[0m \u001b[1;32min\u001b[0m \u001b[0menv_added\u001b[0m\u001b[1;33m:\u001b[0m\u001b[1;33m\u001b[0m\u001b[1;33m\u001b[0m\u001b[0m\n",
      "\u001b[1;31mImportError\u001b[0m: \n\nIMPORTANT: PLEASE READ THIS FOR ADVICE ON HOW TO SOLVE THIS ISSUE!\n\nImporting the numpy C-extensions failed. This error can happen for\nmany reasons, often due to issues with your setup or how NumPy was\ninstalled.\n\nWe have compiled some common reasons and troubleshooting tips at:\n\n    https://numpy.org/devdocs/user/troubleshooting-importerror.html\n\nPlease note and check the following:\n\n  * The Python version is: Python3.7 from \"C:\\Users\\cdpet\\anaconda3\\envs\\PythonData\\python.exe\"\n  * The NumPy version is: \"1.20.3\"\n\nand make sure that they are the versions you expect.\nPlease carefully study the documentation linked above for further help.\n\nOriginal error was: DLL load failed: The specified module could not be found.\n"
     ]
    }
   ],
   "source": [
    "import datetime as dt\n",
    "\n",
    "from matplotlib.patches import Rectangle\n",
    "import numpy as np\n",
    "import pandas as pd\n",
    "\n",
    "# Python SQL toolkit and Object Relational Mapper\n",
    "import sqlalchemy\n",
    "from sqlalchemy.ext.automap import automap_base\n",
    "from sqlalchemy.orm import Session\n",
    "from sqlalchemy import create_engine, func, inspect\n",
    "\n",
    "# 1. Import the sqlalchemy extract function.\n",
    "from sqlalchemy import extract"
   ]
  },
  {
   "cell_type": "markdown",
   "metadata": {},
   "source": [
    "## Connect to the Database"
   ]
  },
  {
   "cell_type": "code",
   "execution_count": null,
   "metadata": {},
   "outputs": [],
   "source": [
    "engine = create_engine(\"sqlite:///Resources/hawaii.sqlite\")\n",
    "\n",
    "# reflect an existing database into a new model\n",
    "Base = automap_base()\n",
    "# reflect the tables\n",
    "Base.prepare(engine, reflect=True)\n",
    "\n",
    "# Save references to each table\n",
    "Measurement = Base.classes.measurement\n",
    "Station = Base.classes.station"
   ]
  },
  {
   "cell_type": "code",
   "execution_count": null,
   "metadata": {},
   "outputs": [],
   "source": [
    "# Create our session (link) from Python to the DB\n",
    "session = Session(engine)"
   ]
  },
  {
   "cell_type": "code",
   "execution_count": null,
   "metadata": {},
   "outputs": [],
   "source": [
    "# Inspect to see the column names for each reflected table\n",
    "ins_meas = inspect(Measurement)\n",
    "meas_col = [col.key for col in ins_meas.mapper.column_attrs]\n",
    "ins_station = inspect(Station)\n",
    "station_col = [col.key for col in ins_station.mapper.column_attrs]\n",
    "\n",
    "# Print the columns\n",
    "print(\"measurement columns =\", meas_col)\n",
    "print(\"station columns =\", station_col)"
   ]
  },
  {
   "cell_type": "markdown",
   "metadata": {},
   "source": [
    "## Deliverable 1: Determine the Summary Statistics for Temperatures in June"
   ]
  },
  {
   "cell_type": "code",
   "execution_count": null,
   "metadata": {
    "tags": []
   },
   "outputs": [],
   "source": [
    "# 2. Write a query that filters the Measurement table to retrieve the\n",
    "# temperatures for the month of June.\n",
    "jun_temps = (\n",
    "    session.query(Measurement.tobs)\n",
    "    .filter(extract(\"month\", Measurement.date) == 6)\n",
    "    .all()\n",
    ")"
   ]
  },
  {
   "cell_type": "code",
   "execution_count": null,
   "metadata": {
    "tags": []
   },
   "outputs": [],
   "source": [
    "#  3. Convert the June temperatures to a list.\n",
    "jun_temps = list(np.ravel(jun_temps))"
   ]
  },
  {
   "cell_type": "code",
   "execution_count": null,
   "metadata": {
    "tags": []
   },
   "outputs": [],
   "source": [
    "# 4. Create a DataFrame from the list of temperatures for the month of June.\n",
    "jun_temps_df = pd.DataFrame(jun_temps, columns=[\"June Temps\"])"
   ]
  },
  {
   "cell_type": "code",
   "execution_count": null,
   "metadata": {},
   "outputs": [],
   "source": [
    "# 5. Calculate and print out the summary statistics for the June temperature\n",
    "# DataFrame.\n",
    "jun_temps_df.describe()"
   ]
  },
  {
   "cell_type": "markdown",
   "metadata": {},
   "source": [
    "## Deliverable 2: Determine the Summary Statistics for Temperatures in December"
   ]
  },
  {
   "cell_type": "code",
   "execution_count": null,
   "metadata": {
    "tags": []
   },
   "outputs": [],
   "source": [
    "# 6. Write a query that filters the Measurement table to retrieve the\n",
    "# temperatures for the month of December.\n",
    "dec_temps = (\n",
    "    session.query(Measurement.tobs)\n",
    "    .filter(extract(\"month\", Measurement.date) == 12)\n",
    "    .all()\n",
    ")"
   ]
  },
  {
   "cell_type": "code",
   "execution_count": null,
   "metadata": {
    "tags": []
   },
   "outputs": [],
   "source": [
    "# 7. Convert the December temperatures to a list.\n",
    "dec_temps = list(np.ravel(dec_temps))"
   ]
  },
  {
   "cell_type": "code",
   "execution_count": null,
   "metadata": {
    "tags": []
   },
   "outputs": [],
   "source": [
    "# 8. Create a DataFrame from the list of temperatures for the month of December.\n",
    "dec_temps_df = pd.DataFrame(dec_temps, columns=[\"December Temps\"])"
   ]
  },
  {
   "cell_type": "code",
   "execution_count": null,
   "metadata": {},
   "outputs": [],
   "source": [
    "# 9. Calculate and print out the summary statistics for the December\n",
    "# temperature DataFrame.\n",
    "dec_temps_df.describe()"
   ]
  },
  {
   "cell_type": "markdown",
   "metadata": {},
   "source": [
    "## Additional Queries"
   ]
  },
  {
   "cell_type": "markdown",
   "metadata": {},
   "source": [
    "### Additional Query 1: Average Daily Temperture for June and December"
   ]
  },
  {
   "cell_type": "code",
   "execution_count": null,
   "metadata": {
    "tags": []
   },
   "outputs": [],
   "source": [
    "# First create two subqueries containing the temperature and precipitation data\n",
    "# for each month grouped by the day of the month.\n",
    "# June average daily temperatures and precipitations\n",
    "jun_subq = (\n",
    "    session.query(\n",
    "        extract(\"day\", Measurement.date).label(\"day\"),\n",
    "        (func.sum(Measurement.tobs) / func.count(Measurement.tobs)).label(\"j_temp\"),\n",
    "        (func.sum(Measurement.prcp) / func.count(Measurement.prcp)).label(\"j_prcp\"),\n",
    "    )\n",
    "    .filter(extract(\"month\", Measurement.date) == 6)\n",
    "    .group_by(extract(\"day\", Measurement.date))\n",
    "    .subquery(\"jun\")\n",
    ")\n",
    "# December average daily temperatures and precipitations\n",
    "dec_subq = (\n",
    "    session.query(\n",
    "        extract(\"day\", Measurement.date).label(\"day\"),\n",
    "        (func.sum(Measurement.tobs) / func.count(Measurement.tobs)).label(\"d_temp\"),\n",
    "        (func.sum(Measurement.prcp) / func.count(Measurement.prcp)).label(\"d_prcp\"),\n",
    "    )\n",
    "    .filter(extract(\"month\", Measurement.date) == 12)\n",
    "    .group_by(extract(\"day\", Measurement.date))\n",
    "    .subquery(\"dec\")\n",
    ")\n",
    "\n",
    "# Join the two subqueries on the day column\n",
    "daily_averages = (\n",
    "    session.query(\n",
    "        dec_subq.c.day,\n",
    "        jun_subq.c.j_temp,\n",
    "        dec_subq.c.d_temp,\n",
    "        jun_subq.c.j_prcp,\n",
    "        dec_subq.c.d_prcp,\n",
    "    )\n",
    "    .outerjoin(jun_subq, dec_subq.c.day == jun_subq.c.day)\n",
    "    .all()\n",
    ")\n",
    "\n",
    "# Create a DataFrame from the daily_averages query\n",
    "daily_averages_df = pd.DataFrame(\n",
    "    daily_averages, columns=[\"day\", \"jun_temp\", \"dec_temp\", \"jun_prcp\", \"dec_prcp\"]\n",
    ")\n",
    "\n",
    "# Use the day of the month as the index\n",
    "daily_averages_df.set_index([\"day\"], inplace=True)"
   ]
  },
  {
   "cell_type": "markdown",
   "metadata": {},
   "source": [
    "#### Average Daily Temperature Plot"
   ]
  },
  {
   "cell_type": "code",
   "execution_count": null,
   "metadata": {
    "tags": []
   },
   "outputs": [],
   "source": [
    "# Average Daily Temperature (ADT) plot\n",
    "ax = daily_averages_df[[\"jun_temp\", \"dec_temp\"]].plot(\n",
    "    title=\"Average Daily Temperature\", xlabel=\"Day of Month\", ylabel=\"Temperature (°F)\"\n",
    ")\n",
    "ax.legend(labels=[\"June\", \"December\"])\n",
    "fig = ax.get_figure()\n",
    "fig.patch.set_facecolor(\"white\")\n",
    "# fig.add_artist(Rectangle((0, 0), width=1, height=1, facecolor='none', edgecolor='black'))\n",
    "fig.savefig(\"Resources/avg_daily_temperature.svg\")"
   ]
  },
  {
   "cell_type": "markdown",
   "metadata": {},
   "source": [
    "#### Average Daily Precipitation Plot"
   ]
  },
  {
   "cell_type": "code",
   "execution_count": null,
   "metadata": {},
   "outputs": [],
   "source": [
    "# Average Daily Precipitation (ADT) plot\n",
    "ax = daily_averages_df[[\"jun_prcp\", \"dec_prcp\"]].plot(\n",
    "    title=\"Average Daily Precipitation\",\n",
    "    xlabel=\"Day of Month\",\n",
    "    ylabel=\"Precipitation (in)\",\n",
    ")\n",
    "ax.legend(labels=[\"June\", \"December\"])\n",
    "fig = ax.get_figure()\n",
    "fig.patch.set_facecolor(\"white\")\n",
    "# fig.add_artist(Rectangle((0, 0), width=1, height=1, facecolor='none', edgecolor='black'))\n",
    "fig.savefig(\"Resources/avg_daily_precipitation.svg\")"
   ]
  },
  {
   "cell_type": "markdown",
   "metadata": {},
   "source": [
    "### Additional Query 2: Determine the Summary Statistics for Precipitation in June"
   ]
  },
  {
   "cell_type": "code",
   "execution_count": null,
   "metadata": {
    "tags": []
   },
   "outputs": [],
   "source": [
    "# Filter the Measurement table to retrieve the precipitation for the month of\n",
    "# June.\n",
    "jun_prcp = (\n",
    "    session.query(Measurement.prcp)\n",
    "    .filter(extract(\"month\", Measurement.date) == 6)\n",
    "    .all()\n",
    ")\n",
    "\n",
    "# Convert the June precipitations to a list.\n",
    "jun_prcp = list(np.ravel(jun_prcp))\n",
    "\n",
    "# Create a DataFrame from the list of precipitations for the month of June.\n",
    "jun_prcp_df = pd.DataFrame(jun_prcp, columns=[\"June Precipitation\"])\n",
    "\n",
    "# Calculate and print out the summary statistics for the June precipitation\n",
    "# DataFrame.\n",
    "jun_prcp_stats_df = jun_prcp_df.describe()\n",
    "jun_prcp_stats_df"
   ]
  },
  {
   "cell_type": "markdown",
   "metadata": {},
   "source": [
    "### Additional Query 3: Determine the Summary Statistics for Precipitation in December"
   ]
  },
  {
   "cell_type": "code",
   "execution_count": null,
   "metadata": {},
   "outputs": [],
   "source": [
    "# Filter the Measurement table to retrieve the precipitation for the month of\n",
    "# December.\n",
    "dec_prcp = (\n",
    "    session.query(Measurement.prcp)\n",
    "    .filter(extract(\"month\", Measurement.date) == 12)\n",
    "    .all()\n",
    ")\n",
    "\n",
    "# Convert the December precipitations to a list.\n",
    "dec_prcp = list(np.ravel(dec_prcp))\n",
    "\n",
    "# Create a DataFrame from the list of precipitations for the month of December.\n",
    "dec_prcp_df = pd.DataFrame(dec_prcp, columns=[\"December Precipitation\"])\n",
    "\n",
    "# Calculate and print out the summary statistics for the December precipitation\n",
    "# DataFrame.\n",
    "dec_prcp_stats_df = dec_prcp_df.describe()\n",
    "dec_prcp_stats_df"
   ]
  },
  {
   "cell_type": "markdown",
   "metadata": {},
   "source": [
    "### Combine Table AQ2 and AQ3 for Reporting"
   ]
  },
  {
   "cell_type": "code",
   "execution_count": null,
   "metadata": {},
   "outputs": [],
   "source": [
    "# Use the indexes of each DataFrame as the keys for merging\n",
    "prcp_stats_df = jun_prcp_stats_df.merge(\n",
    "    dec_prcp_stats_df, left_index=True, right_index=True\n",
    ")\n",
    "prcp_stats_df"
   ]
  },
  {
   "cell_type": "markdown",
   "metadata": {},
   "source": [
    "### Additional Query 4: Min/Max Temperature for June and December"
   ]
  },
  {
   "cell_type": "code",
   "execution_count": null,
   "metadata": {},
   "outputs": [],
   "source": [
    "# June min/max (mm) temperatures for all years\n",
    "jun_mm_temp = (\n",
    "    session.query(\n",
    "        extract(\"day\", Measurement.date),\n",
    "        func.max(Measurement.tobs),\n",
    "        func.min(Measurement.tobs),\n",
    "    )\n",
    "    .filter(extract(\"month\", Measurement.date) == 6)\n",
    "    .group_by(extract(\"day\", Measurement.date))\n",
    "    .all()\n",
    ")\n",
    "\n",
    "# Create a DataFrame\n",
    "jun_mm_temp_df = pd.DataFrame(\n",
    "    jun_mm_temp, columns=[\"day\", \"jun_max_temp\", \"jun_min_temp\"]\n",
    ")\n",
    "\n",
    "# Set the index to the day of the month\n",
    "jun_mm_temp_df.set_index([\"day\"], inplace=True)\n",
    "\n",
    "# Plot the min/max values\n",
    "ax = jun_mm_temp_df.plot(\n",
    "    title=\"Min/Max Daily Temperature in June\",\n",
    "    xlabel=\"Day of Month\",\n",
    "    ylabel=\"Temperature (°F)\",\n",
    ")\n",
    "ax.legend(labels=[\"Maximums\", \"Minimums\"])\n",
    "fig = ax.get_figure()\n",
    "fig.patch.set_facecolor(\"white\")\n",
    "# fig.add_artist(Rectangle((0, 0), width=1, height=1, facecolor='none', edgecolor='black'))\n",
    "fig.savefig(\"Resources/min_max_daily_temperature_june.svg\")"
   ]
  },
  {
   "cell_type": "code",
   "execution_count": null,
   "metadata": {
    "tags": []
   },
   "outputs": [],
   "source": [
    "# December min/max (mm) temperatures for all years\n",
    "dec_mm_temp = (\n",
    "    session.query(\n",
    "        extract(\"day\", Measurement.date),\n",
    "        func.max(Measurement.tobs),\n",
    "        func.min(Measurement.tobs),\n",
    "    )\n",
    "    .filter(extract(\"month\", Measurement.date) == 12)\n",
    "    .group_by(extract(\"day\", Measurement.date))\n",
    "    .all()\n",
    ")\n",
    "\n",
    "# Create a DataFrame\n",
    "dec_mm_temp_df = pd.DataFrame(\n",
    "    dec_mm_temp, columns=[\"day\", \"dec_max_temp\", \"dec_min_temp\"]\n",
    ")\n",
    "\n",
    "# Set the index to the day of the month\n",
    "dec_mm_temp_df.set_index([\"day\"], inplace=True)\n",
    "\n",
    "# Plot the min/max values\n",
    "ax = dec_mm_temp_df.plot(\n",
    "    title=\"Average Daily Temperature in December\",\n",
    "    xlabel=\"Day of Month\",\n",
    "    ylabel=\"Temperature (°F)\",\n",
    ")\n",
    "ax.legend(labels=[\"Maximums\", \"Minimums\"])\n",
    "fig = ax.get_figure()\n",
    "fig.patch.set_facecolor(\"white\")\n",
    "# fig.add_artist(Rectangle((0, 0), width=1, height=1, facecolor='none', edgecolor='black'))\n",
    "fig.savefig(\"Resources/min_max_daily_temperature_december.svg\")"
   ]
  }
 ],
 "metadata": {
  "kernelspec": {
   "display_name": "PythonData",
   "language": "python",
   "name": "pythondata"
  },
  "language_info": {
   "codemirror_mode": {
    "name": "ipython",
    "version": 3
   },
   "file_extension": ".py",
   "mimetype": "text/x-python",
   "name": "python",
   "nbconvert_exporter": "python",
   "pygments_lexer": "ipython3",
   "version": "3.7.11"
  }
 },
 "nbformat": 4,
 "nbformat_minor": 4
}
