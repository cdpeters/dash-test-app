{
 "cells": [
  {
   "cell_type": "markdown",
   "id": "77214765-4ed0-49aa-93a6-e4607a034d15",
   "metadata": {},
   "source": [
    "## Test Working with Google Drive Files"
   ]
  },
  {
   "cell_type": "code",
   "execution_count": 1,
   "id": "832871df-1af0-40d1-a635-0330a9876501",
   "metadata": {},
   "outputs": [],
   "source": [
    "from pathlib import Path\n",
    "\n",
    "import plotly.express as px\n",
    "import ibis\n",
    "import pandas as pd"
   ]
  },
  {
   "cell_type": "code",
   "execution_count": 2,
   "id": "420d0ac7-ddfa-482d-88c1-26bd0d8fb9c6",
   "metadata": {},
   "outputs": [
    {
     "data": {
      "text/plain": [
       "WindowsPath('C:/Users/cdpet/Documents/Data Collab Projects/Dash Test App/dash-test-app/data')"
      ]
     },
     "execution_count": 2,
     "metadata": {},
     "output_type": "execute_result"
    }
   ],
   "source": [
    "# Set up data directory\n",
    "data_dir = Path.cwd().parents[0] / \"data\"\n",
    "data_dir"
   ]
  },
  {
   "cell_type": "markdown",
   "id": "dc7e3a5f-69b9-41ef-a7cc-4a1e796bf39a",
   "metadata": {},
   "source": [
    "### CSV\n",
    "\n",
    "#### Load CSV"
   ]
  },
  {
   "cell_type": "code",
   "execution_count": 3,
   "id": "d94bdeac-6c8d-4ed2-a3dc-1d4d69a424c9",
   "metadata": {},
   "outputs": [],
   "source": [
    "# df = pd.read_csv(Path(\"/data/playoff_teams_df.csv\"))\n",
    "df = pd.read_csv(data_dir / \"playoff_teams_df.csv\")"
   ]
  },
  {
   "cell_type": "code",
   "execution_count": 4,
   "id": "1b0983d2-5c9e-43c0-8c75-6a781d7487a0",
   "metadata": {},
   "outputs": [
    {
     "data": {
      "text/html": [
       "<div>\n",
       "<style scoped>\n",
       "    .dataframe tbody tr th:only-of-type {\n",
       "        vertical-align: middle;\n",
       "    }\n",
       "\n",
       "    .dataframe tbody tr th {\n",
       "        vertical-align: top;\n",
       "    }\n",
       "\n",
       "    .dataframe thead th {\n",
       "        text-align: right;\n",
       "    }\n",
       "</style>\n",
       "<table border=\"1\" class=\"dataframe\">\n",
       "  <thead>\n",
       "    <tr style=\"text-align: right;\">\n",
       "      <th></th>\n",
       "      <th>2021-22</th>\n",
       "      <th>2020-21</th>\n",
       "      <th>2019-20</th>\n",
       "      <th>2018-19</th>\n",
       "      <th>2017-18</th>\n",
       "      <th>2016-17</th>\n",
       "      <th>2015-16</th>\n",
       "      <th>2014-15</th>\n",
       "      <th>2013-14</th>\n",
       "      <th>2012-13</th>\n",
       "      <th>...</th>\n",
       "      <th>2005-06</th>\n",
       "      <th>2004-05</th>\n",
       "      <th>2003-04</th>\n",
       "      <th>2002-03</th>\n",
       "      <th>2001-02</th>\n",
       "      <th>2000-01</th>\n",
       "      <th>1999-00</th>\n",
       "      <th>1998-99</th>\n",
       "      <th>1997-98</th>\n",
       "      <th>1996-97</th>\n",
       "    </tr>\n",
       "  </thead>\n",
       "  <tbody>\n",
       "    <tr>\n",
       "      <th>0</th>\n",
       "      <td>Boston Celtics</td>\n",
       "      <td>Milwaukee Bucks</td>\n",
       "      <td>Los Angeles Lakers</td>\n",
       "      <td>Toronto Raptors</td>\n",
       "      <td>Golden State Warriors</td>\n",
       "      <td>Golden State Warriors</td>\n",
       "      <td>Cleveland Cavaliers</td>\n",
       "      <td>Golden State Warriors</td>\n",
       "      <td>San Antonio Spurs</td>\n",
       "      <td>Miami Heat</td>\n",
       "      <td>...</td>\n",
       "      <td>Miami Heat</td>\n",
       "      <td>San Antonio Spurs</td>\n",
       "      <td>Detroit Pistons</td>\n",
       "      <td>San Antonio Spurs</td>\n",
       "      <td>Los Angeles Lakers</td>\n",
       "      <td>Los Angeles Lakers</td>\n",
       "      <td>Los Angeles Lakers</td>\n",
       "      <td>San Antonio Spurs</td>\n",
       "      <td>Chicago Bulls</td>\n",
       "      <td>Chicago Bulls</td>\n",
       "    </tr>\n",
       "    <tr>\n",
       "      <th>1</th>\n",
       "      <td>Golden State Warriors</td>\n",
       "      <td>Phoenix Suns</td>\n",
       "      <td>Miami Heat</td>\n",
       "      <td>Golden State Warriors</td>\n",
       "      <td>Cleveland Cavaliers</td>\n",
       "      <td>Cleveland Cavaliers</td>\n",
       "      <td>Golden State Warriors</td>\n",
       "      <td>Cleveland Cavaliers</td>\n",
       "      <td>Miami Heat</td>\n",
       "      <td>San Antonio Spurs</td>\n",
       "      <td>...</td>\n",
       "      <td>Dallas Mavericks</td>\n",
       "      <td>Detroit Pistons</td>\n",
       "      <td>Los Angeles Lakers</td>\n",
       "      <td>New Jersey Nets</td>\n",
       "      <td>New Jersey Nets</td>\n",
       "      <td>Philadelphia 76ers</td>\n",
       "      <td>Indiana Pacers</td>\n",
       "      <td>New York Knicks</td>\n",
       "      <td>Utah Jazz</td>\n",
       "      <td>Utah Jazz</td>\n",
       "    </tr>\n",
       "    <tr>\n",
       "      <th>2</th>\n",
       "      <td>Miami Heat</td>\n",
       "      <td>Atlanta Hawks</td>\n",
       "      <td>Boston Celtics</td>\n",
       "      <td>Milwaukee Bucks</td>\n",
       "      <td>Houston Rockets</td>\n",
       "      <td>Boston Celtics</td>\n",
       "      <td>Oklahoma City Thunder</td>\n",
       "      <td>Houston Rockets</td>\n",
       "      <td>Indiana Pacers</td>\n",
       "      <td>Indiana Pacers</td>\n",
       "      <td>...</td>\n",
       "      <td>Detroit Pistons</td>\n",
       "      <td>Miami Heat</td>\n",
       "      <td>Indiana Pacers</td>\n",
       "      <td>Dallas Mavericks</td>\n",
       "      <td>Sacramento Kings</td>\n",
       "      <td>Milwaukee Bucks</td>\n",
       "      <td>Portland Trail Blazers</td>\n",
       "      <td>Indiana Pacers</td>\n",
       "      <td>Indiana Pacers</td>\n",
       "      <td>Houston Rockets</td>\n",
       "    </tr>\n",
       "    <tr>\n",
       "      <th>3</th>\n",
       "      <td>Milwaukee Bucks</td>\n",
       "      <td>LA Clippers</td>\n",
       "      <td>Denver Nuggets</td>\n",
       "      <td>Portland Trail Blazers</td>\n",
       "      <td>Boston Celtics</td>\n",
       "      <td>San Antonio Spurs</td>\n",
       "      <td>Toronto Raptors</td>\n",
       "      <td>Atlanta Hawks</td>\n",
       "      <td>Oklahoma City Thunder</td>\n",
       "      <td>Memphis Grizzlies</td>\n",
       "      <td>...</td>\n",
       "      <td>Phoenix Suns</td>\n",
       "      <td>Phoenix Suns</td>\n",
       "      <td>Minnesota Timberwolves</td>\n",
       "      <td>Detroit Pistons</td>\n",
       "      <td>Boston Celtics</td>\n",
       "      <td>San Antonio Spurs</td>\n",
       "      <td>New York Knicks</td>\n",
       "      <td>Portland Trail Blazers</td>\n",
       "      <td>Los Angeles Lakers</td>\n",
       "      <td>Miami Heat</td>\n",
       "    </tr>\n",
       "    <tr>\n",
       "      <th>4</th>\n",
       "      <td>Philadelphia 76ers</td>\n",
       "      <td>Brooklyn Nets</td>\n",
       "      <td>Toronto Raptors</td>\n",
       "      <td>Philadelphia 76ers</td>\n",
       "      <td>New Orleans Pelicans</td>\n",
       "      <td>Washington Wizards</td>\n",
       "      <td>Miami Heat</td>\n",
       "      <td>Los Angeles Clippers</td>\n",
       "      <td>Washington Wizards</td>\n",
       "      <td>Golden State Warriors</td>\n",
       "      <td>...</td>\n",
       "      <td>Los Angeles Clippers</td>\n",
       "      <td>Seattle SuperSonics</td>\n",
       "      <td>New Jersey Nets</td>\n",
       "      <td>Sacramento Kings</td>\n",
       "      <td>Dallas Mavericks</td>\n",
       "      <td>Charlotte Hornets</td>\n",
       "      <td>Miami Heat</td>\n",
       "      <td>Utah Jazz</td>\n",
       "      <td>Charlotte Hornets</td>\n",
       "      <td>New York Knicks</td>\n",
       "    </tr>\n",
       "  </tbody>\n",
       "</table>\n",
       "<p>5 rows × 26 columns</p>\n",
       "</div>"
      ],
      "text/plain": [
       "                 2021-22          2020-21             2019-20  \\\n",
       "0         Boston Celtics  Milwaukee Bucks  Los Angeles Lakers   \n",
       "1  Golden State Warriors     Phoenix Suns          Miami Heat   \n",
       "2             Miami Heat    Atlanta Hawks      Boston Celtics   \n",
       "3        Milwaukee Bucks      LA Clippers      Denver Nuggets   \n",
       "4     Philadelphia 76ers    Brooklyn Nets     Toronto Raptors   \n",
       "\n",
       "                  2018-19                2017-18                2016-17  \\\n",
       "0         Toronto Raptors  Golden State Warriors  Golden State Warriors   \n",
       "1   Golden State Warriors    Cleveland Cavaliers    Cleveland Cavaliers   \n",
       "2         Milwaukee Bucks        Houston Rockets         Boston Celtics   \n",
       "3  Portland Trail Blazers         Boston Celtics      San Antonio Spurs   \n",
       "4      Philadelphia 76ers   New Orleans Pelicans     Washington Wizards   \n",
       "\n",
       "                 2015-16                2014-15                2013-14  \\\n",
       "0    Cleveland Cavaliers  Golden State Warriors      San Antonio Spurs   \n",
       "1  Golden State Warriors    Cleveland Cavaliers             Miami Heat   \n",
       "2  Oklahoma City Thunder        Houston Rockets         Indiana Pacers   \n",
       "3        Toronto Raptors          Atlanta Hawks  Oklahoma City Thunder   \n",
       "4             Miami Heat   Los Angeles Clippers     Washington Wizards   \n",
       "\n",
       "                 2012-13  ...               2005-06              2004-05  \\\n",
       "0             Miami Heat  ...            Miami Heat    San Antonio Spurs   \n",
       "1      San Antonio Spurs  ...      Dallas Mavericks      Detroit Pistons   \n",
       "2         Indiana Pacers  ...       Detroit Pistons           Miami Heat   \n",
       "3      Memphis Grizzlies  ...          Phoenix Suns         Phoenix Suns   \n",
       "4  Golden State Warriors  ...  Los Angeles Clippers  Seattle SuperSonics   \n",
       "\n",
       "                  2003-04            2002-03             2001-02  \\\n",
       "0         Detroit Pistons  San Antonio Spurs  Los Angeles Lakers   \n",
       "1      Los Angeles Lakers    New Jersey Nets     New Jersey Nets   \n",
       "2          Indiana Pacers   Dallas Mavericks    Sacramento Kings   \n",
       "3  Minnesota Timberwolves    Detroit Pistons      Boston Celtics   \n",
       "4         New Jersey Nets   Sacramento Kings    Dallas Mavericks   \n",
       "\n",
       "              2000-01                 1999-00                 1998-99  \\\n",
       "0  Los Angeles Lakers      Los Angeles Lakers       San Antonio Spurs   \n",
       "1  Philadelphia 76ers          Indiana Pacers         New York Knicks   \n",
       "2     Milwaukee Bucks  Portland Trail Blazers          Indiana Pacers   \n",
       "3   San Antonio Spurs         New York Knicks  Portland Trail Blazers   \n",
       "4   Charlotte Hornets              Miami Heat               Utah Jazz   \n",
       "\n",
       "              1997-98          1996-97  \n",
       "0       Chicago Bulls    Chicago Bulls  \n",
       "1           Utah Jazz        Utah Jazz  \n",
       "2      Indiana Pacers  Houston Rockets  \n",
       "3  Los Angeles Lakers       Miami Heat  \n",
       "4   Charlotte Hornets  New York Knicks  \n",
       "\n",
       "[5 rows x 26 columns]"
      ]
     },
     "execution_count": 4,
     "metadata": {},
     "output_type": "execute_result"
    }
   ],
   "source": [
    "df.head()"
   ]
  },
  {
   "cell_type": "markdown",
   "id": "d6aa4e79-68a9-4fe9-ad22-5d416897292f",
   "metadata": {},
   "source": [
    "### Sqlite DB\n",
    "- the test database is *hawaii.sqlite*"
   ]
  },
  {
   "cell_type": "markdown",
   "id": "3e5a82ce-6351-40d1-a523-bbbb90cf3d60",
   "metadata": {},
   "source": [
    "#### Load DB using Ibis (SQLAlchemy Alternative)"
   ]
  },
  {
   "cell_type": "code",
   "execution_count": 5,
   "id": "88331064-ab1f-4f55-aa09-92fd97695b06",
   "metadata": {},
   "outputs": [],
   "source": [
    "# An option Ibis recommends while developing\n",
    "ibis.options.interactive = True"
   ]
  },
  {
   "cell_type": "code",
   "execution_count": 6,
   "id": "d36d237f-cdfa-478b-8eda-f0aed1a940d8",
   "metadata": {},
   "outputs": [],
   "source": [
    "# Connect to the local database using the sqlite backend\n",
    "# db = ibis.sqlite.connect(Path(\"hawaii.sqlite\"))\n",
    "db = ibis.sqlite.connect(data_dir / \"hawaii.sqlite\")"
   ]
  },
  {
   "cell_type": "code",
   "execution_count": 7,
   "id": "7d2b630c-e5a9-49c1-b095-e940f6695a64",
   "metadata": {},
   "outputs": [
    {
     "data": {
      "text/plain": [
       "['measurement', 'station']"
      ]
     },
     "execution_count": 7,
     "metadata": {},
     "output_type": "execute_result"
    }
   ],
   "source": [
    "tables = db.list_tables()\n",
    "tables"
   ]
  },
  {
   "cell_type": "markdown",
   "id": "04ec729d-a9ee-4c52-8907-d567c0f99440",
   "metadata": {},
   "source": [
    "##### Measurement Table"
   ]
  },
  {
   "cell_type": "code",
   "execution_count": 8,
   "id": "28c8bbd0-b544-4c78-8b63-8ebba9cbe4fc",
   "metadata": {},
   "outputs": [
    {
     "data": {
      "text/html": [
       "<pre style=\"white-space:pre;overflow-x:auto;line-height:normal;font-family:Menlo,'DejaVu Sans Mono',consolas,'Courier New',monospace\"></pre>\n"
      ],
      "text/plain": []
     },
     "metadata": {},
     "output_type": "display_data"
    },
    {
     "name": "stdout",
     "output_type": "stream",
     "text": [
      "\u001b[3m                 Summary of measurement                 \u001b[0m\n",
      "\u001b[3m                       19550 rows                       \u001b[0m\n",
      "┏━━━━━━━━━┳━━━━━━━━━━━━━━━━━━━━━━━━┳━━━━━━━━━┳━━━━━━━━━┓\n",
      "┃\u001b[1m \u001b[0m\u001b[1mName   \u001b[0m\u001b[1m \u001b[0m┃\u001b[1m \u001b[0m\u001b[1mType                  \u001b[0m\u001b[1m \u001b[0m┃\u001b[1m \u001b[0m\u001b[1m# Nulls\u001b[0m\u001b[1m \u001b[0m┃\u001b[1m \u001b[0m\u001b[1m% Nulls\u001b[0m\u001b[1m \u001b[0m┃\n",
      "┡━━━━━━━━━╇━━━━━━━━━━━━━━━━━━━━━━━━╇━━━━━━━━━╇━━━━━━━━━┩\n",
      "│ id      │ \u001b[1;35mInt32\u001b[0m\u001b[1m(\u001b[0m\u001b[33mnullable\u001b[0m=\u001b[3;91mFalse\u001b[0m\u001b[1m)\u001b[0m  │       0 │    0.00 │\n",
      "│ station │ \u001b[1;35mString\u001b[0m\u001b[1m(\u001b[0m\u001b[33mnullable\u001b[0m=\u001b[3;92mTrue\u001b[0m\u001b[1m)\u001b[0m  │       0 │    0.00 │\n",
      "│ date    │ \u001b[1;35mString\u001b[0m\u001b[1m(\u001b[0m\u001b[33mnullable\u001b[0m=\u001b[3;92mTrue\u001b[0m\u001b[1m)\u001b[0m  │       0 │    0.00 │\n",
      "│ prcp    │ \u001b[1;35mFloat64\u001b[0m\u001b[1m(\u001b[0m\u001b[33mnullable\u001b[0m=\u001b[3;92mTrue\u001b[0m\u001b[1m)\u001b[0m │    1447 │    7.40 │\n",
      "│ tobs    │ \u001b[1;35mFloat64\u001b[0m\u001b[1m(\u001b[0m\u001b[33mnullable\u001b[0m=\u001b[3;92mTrue\u001b[0m\u001b[1m)\u001b[0m │       0 │    0.00 │\n",
      "└─────────┴────────────────────────┴─────────┴─────────┘\n"
     ]
    }
   ],
   "source": [
    "# `measurement` is a Table instance\n",
    "measurement = db.table(\"measurement\")\n",
    "measurement.info()"
   ]
  },
  {
   "cell_type": "code",
   "execution_count": 9,
   "id": "afa6e8f7-3125-4c8a-bd8f-a833c904bd98",
   "metadata": {},
   "outputs": [
    {
     "data": {
      "text/html": [
       "<div>\n",
       "<style scoped>\n",
       "    .dataframe tbody tr th:only-of-type {\n",
       "        vertical-align: middle;\n",
       "    }\n",
       "\n",
       "    .dataframe tbody tr th {\n",
       "        vertical-align: top;\n",
       "    }\n",
       "\n",
       "    .dataframe thead th {\n",
       "        text-align: right;\n",
       "    }\n",
       "</style>\n",
       "<table border=\"1\" class=\"dataframe\">\n",
       "  <thead>\n",
       "    <tr style=\"text-align: right;\">\n",
       "      <th></th>\n",
       "      <th>id</th>\n",
       "      <th>station</th>\n",
       "      <th>date</th>\n",
       "      <th>prcp</th>\n",
       "      <th>tobs</th>\n",
       "    </tr>\n",
       "  </thead>\n",
       "  <tbody>\n",
       "    <tr>\n",
       "      <th>0</th>\n",
       "      <td>1</td>\n",
       "      <td>USC00519397</td>\n",
       "      <td>2010-01-01</td>\n",
       "      <td>0.08</td>\n",
       "      <td>65.0</td>\n",
       "    </tr>\n",
       "    <tr>\n",
       "      <th>1</th>\n",
       "      <td>2</td>\n",
       "      <td>USC00519397</td>\n",
       "      <td>2010-01-02</td>\n",
       "      <td>0.00</td>\n",
       "      <td>63.0</td>\n",
       "    </tr>\n",
       "    <tr>\n",
       "      <th>2</th>\n",
       "      <td>3</td>\n",
       "      <td>USC00519397</td>\n",
       "      <td>2010-01-03</td>\n",
       "      <td>0.00</td>\n",
       "      <td>74.0</td>\n",
       "    </tr>\n",
       "    <tr>\n",
       "      <th>3</th>\n",
       "      <td>4</td>\n",
       "      <td>USC00519397</td>\n",
       "      <td>2010-01-04</td>\n",
       "      <td>0.00</td>\n",
       "      <td>76.0</td>\n",
       "    </tr>\n",
       "    <tr>\n",
       "      <th>4</th>\n",
       "      <td>5</td>\n",
       "      <td>USC00519397</td>\n",
       "      <td>2010-01-06</td>\n",
       "      <td>NaN</td>\n",
       "      <td>73.0</td>\n",
       "    </tr>\n",
       "  </tbody>\n",
       "</table>\n",
       "</div>"
      ],
      "text/plain": [
       "   id      station        date  prcp  tobs\n",
       "0   1  USC00519397  2010-01-01  0.08  65.0\n",
       "1   2  USC00519397  2010-01-02  0.00  63.0\n",
       "2   3  USC00519397  2010-01-03  0.00  74.0\n",
       "3   4  USC00519397  2010-01-04  0.00  76.0\n",
       "4   5  USC00519397  2010-01-06   NaN  73.0"
      ]
     },
     "execution_count": 9,
     "metadata": {},
     "output_type": "execute_result"
    }
   ],
   "source": [
    "# Use `execute()` to turn the Table into a pandas DataFrame\n",
    "measurement = measurement.execute()\n",
    "measurement.head()"
   ]
  },
  {
   "cell_type": "markdown",
   "id": "2a2baf06-8b3d-45a2-ae2d-2bd5d83f39d4",
   "metadata": {},
   "source": [
    "##### Station Table"
   ]
  },
  {
   "cell_type": "code",
   "execution_count": 10,
   "id": "950f7b1c-0aa4-4407-bbfe-a51591ef7be6",
   "metadata": {},
   "outputs": [
    {
     "data": {
      "text/html": [
       "<pre style=\"white-space:pre;overflow-x:auto;line-height:normal;font-family:Menlo,'DejaVu Sans Mono',consolas,'Courier New',monospace\"></pre>\n"
      ],
      "text/plain": []
     },
     "metadata": {},
     "output_type": "display_data"
    },
    {
     "name": "stdout",
     "output_type": "stream",
     "text": [
      "\u001b[3m                    Summary of station                    \u001b[0m\n",
      "\u001b[3m                          9 rows                          \u001b[0m\n",
      "┏━━━━━━━━━━━┳━━━━━━━━━━━━━━━━━━━━━━━━┳━━━━━━━━━┳━━━━━━━━━┓\n",
      "┃\u001b[1m \u001b[0m\u001b[1mName     \u001b[0m\u001b[1m \u001b[0m┃\u001b[1m \u001b[0m\u001b[1mType                  \u001b[0m\u001b[1m \u001b[0m┃\u001b[1m \u001b[0m\u001b[1m# Nulls\u001b[0m\u001b[1m \u001b[0m┃\u001b[1m \u001b[0m\u001b[1m% Nulls\u001b[0m\u001b[1m \u001b[0m┃\n",
      "┡━━━━━━━━━━━╇━━━━━━━━━━━━━━━━━━━━━━━━╇━━━━━━━━━╇━━━━━━━━━┩\n",
      "│ id        │ \u001b[1;35mInt32\u001b[0m\u001b[1m(\u001b[0m\u001b[33mnullable\u001b[0m=\u001b[3;91mFalse\u001b[0m\u001b[1m)\u001b[0m  │       0 │    0.00 │\n",
      "│ station   │ \u001b[1;35mString\u001b[0m\u001b[1m(\u001b[0m\u001b[33mnullable\u001b[0m=\u001b[3;92mTrue\u001b[0m\u001b[1m)\u001b[0m  │       0 │    0.00 │\n",
      "│ name      │ \u001b[1;35mString\u001b[0m\u001b[1m(\u001b[0m\u001b[33mnullable\u001b[0m=\u001b[3;92mTrue\u001b[0m\u001b[1m)\u001b[0m  │       0 │    0.00 │\n",
      "│ latitude  │ \u001b[1;35mFloat64\u001b[0m\u001b[1m(\u001b[0m\u001b[33mnullable\u001b[0m=\u001b[3;92mTrue\u001b[0m\u001b[1m)\u001b[0m │       0 │    0.00 │\n",
      "│ longitude │ \u001b[1;35mFloat64\u001b[0m\u001b[1m(\u001b[0m\u001b[33mnullable\u001b[0m=\u001b[3;92mTrue\u001b[0m\u001b[1m)\u001b[0m │       0 │    0.00 │\n",
      "│ elevation │ \u001b[1;35mFloat64\u001b[0m\u001b[1m(\u001b[0m\u001b[33mnullable\u001b[0m=\u001b[3;92mTrue\u001b[0m\u001b[1m)\u001b[0m │       0 │    0.00 │\n",
      "└───────────┴────────────────────────┴─────────┴─────────┘\n"
     ]
    }
   ],
   "source": [
    "# `station` is a Table instance\n",
    "station = db.table(\"station\")\n",
    "station.info()"
   ]
  },
  {
   "cell_type": "code",
   "execution_count": 11,
   "id": "ebef8c09-232e-4edc-bc7c-b5ce17bcc532",
   "metadata": {},
   "outputs": [
    {
     "data": {
      "text/html": [
       "<div>\n",
       "<style scoped>\n",
       "    .dataframe tbody tr th:only-of-type {\n",
       "        vertical-align: middle;\n",
       "    }\n",
       "\n",
       "    .dataframe tbody tr th {\n",
       "        vertical-align: top;\n",
       "    }\n",
       "\n",
       "    .dataframe thead th {\n",
       "        text-align: right;\n",
       "    }\n",
       "</style>\n",
       "<table border=\"1\" class=\"dataframe\">\n",
       "  <thead>\n",
       "    <tr style=\"text-align: right;\">\n",
       "      <th></th>\n",
       "      <th>id</th>\n",
       "      <th>station</th>\n",
       "      <th>name</th>\n",
       "      <th>latitude</th>\n",
       "      <th>longitude</th>\n",
       "      <th>elevation</th>\n",
       "    </tr>\n",
       "  </thead>\n",
       "  <tbody>\n",
       "    <tr>\n",
       "      <th>0</th>\n",
       "      <td>1</td>\n",
       "      <td>USC00519397</td>\n",
       "      <td>WAIKIKI 717.2, HI US</td>\n",
       "      <td>21.2716</td>\n",
       "      <td>-157.8168</td>\n",
       "      <td>3.0</td>\n",
       "    </tr>\n",
       "    <tr>\n",
       "      <th>1</th>\n",
       "      <td>2</td>\n",
       "      <td>USC00513117</td>\n",
       "      <td>KANEOHE 838.1, HI US</td>\n",
       "      <td>21.4234</td>\n",
       "      <td>-157.8015</td>\n",
       "      <td>14.6</td>\n",
       "    </tr>\n",
       "    <tr>\n",
       "      <th>2</th>\n",
       "      <td>3</td>\n",
       "      <td>USC00514830</td>\n",
       "      <td>KUALOA RANCH HEADQUARTERS 886.9, HI US</td>\n",
       "      <td>21.5213</td>\n",
       "      <td>-157.8374</td>\n",
       "      <td>7.0</td>\n",
       "    </tr>\n",
       "    <tr>\n",
       "      <th>3</th>\n",
       "      <td>4</td>\n",
       "      <td>USC00517948</td>\n",
       "      <td>PEARL CITY, HI US</td>\n",
       "      <td>21.3934</td>\n",
       "      <td>-157.9751</td>\n",
       "      <td>11.9</td>\n",
       "    </tr>\n",
       "    <tr>\n",
       "      <th>4</th>\n",
       "      <td>5</td>\n",
       "      <td>USC00518838</td>\n",
       "      <td>UPPER WAHIAWA 874.3, HI US</td>\n",
       "      <td>21.4992</td>\n",
       "      <td>-158.0111</td>\n",
       "      <td>306.6</td>\n",
       "    </tr>\n",
       "  </tbody>\n",
       "</table>\n",
       "</div>"
      ],
      "text/plain": [
       "   id      station                                    name  latitude  \\\n",
       "0   1  USC00519397                    WAIKIKI 717.2, HI US   21.2716   \n",
       "1   2  USC00513117                    KANEOHE 838.1, HI US   21.4234   \n",
       "2   3  USC00514830  KUALOA RANCH HEADQUARTERS 886.9, HI US   21.5213   \n",
       "3   4  USC00517948                       PEARL CITY, HI US   21.3934   \n",
       "4   5  USC00518838              UPPER WAHIAWA 874.3, HI US   21.4992   \n",
       "\n",
       "   longitude  elevation  \n",
       "0  -157.8168        3.0  \n",
       "1  -157.8015       14.6  \n",
       "2  -157.8374        7.0  \n",
       "3  -157.9751       11.9  \n",
       "4  -158.0111      306.6  "
      ]
     },
     "execution_count": 11,
     "metadata": {},
     "output_type": "execute_result"
    }
   ],
   "source": [
    "# Use `execute()` to turn the Table into a pandas DataFrame\n",
    "station = station.execute()\n",
    "station.head()"
   ]
  },
  {
   "cell_type": "code",
   "execution_count": null,
   "id": "7640d312-1131-4be3-9601-5f5a9bf3a046",
   "metadata": {},
   "outputs": [],
   "source": []
  },
  {
   "cell_type": "markdown",
   "id": "ccb1e997-63d7-4e1f-b9ea-9b067f7eb50f",
   "metadata": {},
   "source": [
    "#### Write to DB"
   ]
  },
  {
   "cell_type": "code",
   "execution_count": null,
   "id": "37e909cf-90ab-4532-8638-5d2358f5eb75",
   "metadata": {},
   "outputs": [],
   "source": []
  },
  {
   "cell_type": "code",
   "execution_count": 12,
   "id": "6dba538f-3dfa-4480-9c3f-ff2a41bdd3d9",
   "metadata": {},
   "outputs": [],
   "source": [
    "measurement[\"month\"] = pd.DatetimeIndex(measurement[\"date\"]).month_name()\n",
    "measurement[\"day\"] = pd.DatetimeIndex(measurement[\"date\"]).day"
   ]
  },
  {
   "cell_type": "code",
   "execution_count": 13,
   "id": "e7c3f066-0535-4f72-8da7-adb8f8d924b7",
   "metadata": {},
   "outputs": [],
   "source": [
    "measurement.drop(\"date\", axis=1, inplace=True)"
   ]
  },
  {
   "cell_type": "code",
   "execution_count": 15,
   "id": "f2a7f304-c635-47f3-a3bc-5ecbab18c40f",
   "metadata": {},
   "outputs": [],
   "source": [
    "meas_jun = measurement[(measurement[\"month\"] == \"June\")]\n",
    "meas_dec = measurement[(measurement[\"month\"] == \"December\")]"
   ]
  },
  {
   "cell_type": "code",
   "execution_count": 16,
   "id": "8c2d0318-0bb8-41a6-ba98-8c87cafe8f3e",
   "metadata": {},
   "outputs": [
    {
     "data": {
      "text/html": [
       "<div>\n",
       "<style scoped>\n",
       "    .dataframe tbody tr th:only-of-type {\n",
       "        vertical-align: middle;\n",
       "    }\n",
       "\n",
       "    .dataframe tbody tr th {\n",
       "        vertical-align: top;\n",
       "    }\n",
       "\n",
       "    .dataframe thead th {\n",
       "        text-align: right;\n",
       "    }\n",
       "</style>\n",
       "<table border=\"1\" class=\"dataframe\">\n",
       "  <thead>\n",
       "    <tr style=\"text-align: right;\">\n",
       "      <th></th>\n",
       "      <th>id</th>\n",
       "      <th>station</th>\n",
       "      <th>prcp</th>\n",
       "      <th>tobs</th>\n",
       "      <th>month</th>\n",
       "      <th>day</th>\n",
       "    </tr>\n",
       "  </thead>\n",
       "  <tbody>\n",
       "    <tr>\n",
       "      <th>305</th>\n",
       "      <td>306</td>\n",
       "      <td>USC00519397</td>\n",
       "      <td>0.04</td>\n",
       "      <td>76.0</td>\n",
       "      <td>December</td>\n",
       "      <td>1</td>\n",
       "    </tr>\n",
       "    <tr>\n",
       "      <th>306</th>\n",
       "      <td>307</td>\n",
       "      <td>USC00519397</td>\n",
       "      <td>0.00</td>\n",
       "      <td>74.0</td>\n",
       "      <td>December</td>\n",
       "      <td>3</td>\n",
       "    </tr>\n",
       "    <tr>\n",
       "      <th>307</th>\n",
       "      <td>308</td>\n",
       "      <td>USC00519397</td>\n",
       "      <td>0.00</td>\n",
       "      <td>74.0</td>\n",
       "      <td>December</td>\n",
       "      <td>4</td>\n",
       "    </tr>\n",
       "    <tr>\n",
       "      <th>308</th>\n",
       "      <td>309</td>\n",
       "      <td>USC00519397</td>\n",
       "      <td>0.00</td>\n",
       "      <td>64.0</td>\n",
       "      <td>December</td>\n",
       "      <td>6</td>\n",
       "    </tr>\n",
       "    <tr>\n",
       "      <th>309</th>\n",
       "      <td>310</td>\n",
       "      <td>USC00519397</td>\n",
       "      <td>0.00</td>\n",
       "      <td>64.0</td>\n",
       "      <td>December</td>\n",
       "      <td>7</td>\n",
       "    </tr>\n",
       "  </tbody>\n",
       "</table>\n",
       "</div>"
      ],
      "text/plain": [
       "      id      station  prcp  tobs     month  day\n",
       "305  306  USC00519397  0.04  76.0  December    1\n",
       "306  307  USC00519397  0.00  74.0  December    3\n",
       "307  308  USC00519397  0.00  74.0  December    4\n",
       "308  309  USC00519397  0.00  64.0  December    6\n",
       "309  310  USC00519397  0.00  64.0  December    7"
      ]
     },
     "execution_count": 16,
     "metadata": {},
     "output_type": "execute_result"
    }
   ],
   "source": [
    "meas_dec.head()"
   ]
  },
  {
   "cell_type": "code",
   "execution_count": 17,
   "id": "d6e5ac53-f203-45a6-aa6e-2fa30afd43c9",
   "metadata": {},
   "outputs": [],
   "source": [
    "mean_jun = meas_jun.groupby(by=\"day\")[[\"prcp\", \"tobs\"]].mean()\n",
    "mean_dec = meas_dec.groupby(by=\"day\")[[\"prcp\", \"tobs\"]].mean()"
   ]
  },
  {
   "cell_type": "code",
   "execution_count": 18,
   "id": "d7a1a577-142d-4572-acb9-7c0ef811004a",
   "metadata": {},
   "outputs": [],
   "source": [
    "mean_jun[\"month\"] = \"Jun\"\n",
    "mean_dec[\"month\"] = \"Dec\""
   ]
  },
  {
   "cell_type": "code",
   "execution_count": 19,
   "id": "ca9ecd11-92a1-4e78-a2b1-6f2f02cde261",
   "metadata": {},
   "outputs": [],
   "source": [
    "mean_jun = mean_jun.reset_index()\n",
    "mean_dec = mean_dec.reset_index()"
   ]
  },
  {
   "cell_type": "code",
   "execution_count": 30,
   "id": "32ac4c27-e752-4a83-b4d7-7d006abea87a",
   "metadata": {},
   "outputs": [
    {
     "data": {
      "text/html": [
       "<div>\n",
       "<style scoped>\n",
       "    .dataframe tbody tr th:only-of-type {\n",
       "        vertical-align: middle;\n",
       "    }\n",
       "\n",
       "    .dataframe tbody tr th {\n",
       "        vertical-align: top;\n",
       "    }\n",
       "\n",
       "    .dataframe thead th {\n",
       "        text-align: right;\n",
       "    }\n",
       "</style>\n",
       "<table border=\"1\" class=\"dataframe\">\n",
       "  <thead>\n",
       "    <tr style=\"text-align: right;\">\n",
       "      <th></th>\n",
       "      <th>day_jun</th>\n",
       "      <th>prcp_jun</th>\n",
       "      <th>tobs_jun</th>\n",
       "      <th>month_jun</th>\n",
       "      <th>day_dec</th>\n",
       "      <th>prcp_dec</th>\n",
       "      <th>tobs_dec</th>\n",
       "      <th>month_dec</th>\n",
       "    </tr>\n",
       "  </thead>\n",
       "  <tbody>\n",
       "    <tr>\n",
       "      <th>0</th>\n",
       "      <td>1.0</td>\n",
       "      <td>0.076667</td>\n",
       "      <td>75.035714</td>\n",
       "      <td>Jun</td>\n",
       "      <td>1</td>\n",
       "      <td>0.110435</td>\n",
       "      <td>72.400000</td>\n",
       "      <td>Dec</td>\n",
       "    </tr>\n",
       "    <tr>\n",
       "      <th>1</th>\n",
       "      <td>2.0</td>\n",
       "      <td>0.069167</td>\n",
       "      <td>74.962963</td>\n",
       "      <td>Jun</td>\n",
       "      <td>2</td>\n",
       "      <td>0.214348</td>\n",
       "      <td>71.925926</td>\n",
       "      <td>Dec</td>\n",
       "    </tr>\n",
       "    <tr>\n",
       "      <th>2</th>\n",
       "      <td>3.0</td>\n",
       "      <td>0.206923</td>\n",
       "      <td>74.833333</td>\n",
       "      <td>Jun</td>\n",
       "      <td>3</td>\n",
       "      <td>0.138750</td>\n",
       "      <td>73.464286</td>\n",
       "      <td>Dec</td>\n",
       "    </tr>\n",
       "    <tr>\n",
       "      <th>3</th>\n",
       "      <td>4.0</td>\n",
       "      <td>0.286000</td>\n",
       "      <td>74.678571</td>\n",
       "      <td>Jun</td>\n",
       "      <td>4</td>\n",
       "      <td>0.153333</td>\n",
       "      <td>73.192308</td>\n",
       "      <td>Dec</td>\n",
       "    </tr>\n",
       "    <tr>\n",
       "      <th>4</th>\n",
       "      <td>5.0</td>\n",
       "      <td>0.318846</td>\n",
       "      <td>75.750000</td>\n",
       "      <td>Jun</td>\n",
       "      <td>5</td>\n",
       "      <td>0.073913</td>\n",
       "      <td>71.769231</td>\n",
       "      <td>Dec</td>\n",
       "    </tr>\n",
       "    <tr>\n",
       "      <th>5</th>\n",
       "      <td>6.0</td>\n",
       "      <td>0.026923</td>\n",
       "      <td>76.100000</td>\n",
       "      <td>Jun</td>\n",
       "      <td>6</td>\n",
       "      <td>0.049130</td>\n",
       "      <td>70.259259</td>\n",
       "      <td>Dec</td>\n",
       "    </tr>\n",
       "    <tr>\n",
       "      <th>6</th>\n",
       "      <td>7.0</td>\n",
       "      <td>0.028800</td>\n",
       "      <td>76.103448</td>\n",
       "      <td>Jun</td>\n",
       "      <td>7</td>\n",
       "      <td>0.018095</td>\n",
       "      <td>70.346154</td>\n",
       "      <td>Dec</td>\n",
       "    </tr>\n",
       "    <tr>\n",
       "      <th>7</th>\n",
       "      <td>8.0</td>\n",
       "      <td>0.018750</td>\n",
       "      <td>76.000000</td>\n",
       "      <td>Jun</td>\n",
       "      <td>8</td>\n",
       "      <td>0.045417</td>\n",
       "      <td>70.592593</td>\n",
       "      <td>Dec</td>\n",
       "    </tr>\n",
       "    <tr>\n",
       "      <th>8</th>\n",
       "      <td>9.0</td>\n",
       "      <td>0.020000</td>\n",
       "      <td>76.322581</td>\n",
       "      <td>Jun</td>\n",
       "      <td>9</td>\n",
       "      <td>0.134167</td>\n",
       "      <td>72.964286</td>\n",
       "      <td>Dec</td>\n",
       "    </tr>\n",
       "    <tr>\n",
       "      <th>9</th>\n",
       "      <td>10.0</td>\n",
       "      <td>0.050690</td>\n",
       "      <td>75.862069</td>\n",
       "      <td>Jun</td>\n",
       "      <td>10</td>\n",
       "      <td>0.492308</td>\n",
       "      <td>72.035714</td>\n",
       "      <td>Dec</td>\n",
       "    </tr>\n",
       "    <tr>\n",
       "      <th>10</th>\n",
       "      <td>11.0</td>\n",
       "      <td>0.040000</td>\n",
       "      <td>76.458333</td>\n",
       "      <td>Jun</td>\n",
       "      <td>11</td>\n",
       "      <td>0.198333</td>\n",
       "      <td>72.916667</td>\n",
       "      <td>Dec</td>\n",
       "    </tr>\n",
       "    <tr>\n",
       "      <th>11</th>\n",
       "      <td>12.0</td>\n",
       "      <td>0.044400</td>\n",
       "      <td>76.172414</td>\n",
       "      <td>Jun</td>\n",
       "      <td>12</td>\n",
       "      <td>0.105652</td>\n",
       "      <td>72.038462</td>\n",
       "      <td>Dec</td>\n",
       "    </tr>\n",
       "    <tr>\n",
       "      <th>12</th>\n",
       "      <td>13.0</td>\n",
       "      <td>0.035556</td>\n",
       "      <td>76.903226</td>\n",
       "      <td>Jun</td>\n",
       "      <td>13</td>\n",
       "      <td>0.288846</td>\n",
       "      <td>71.357143</td>\n",
       "      <td>Dec</td>\n",
       "    </tr>\n",
       "    <tr>\n",
       "      <th>13</th>\n",
       "      <td>14.0</td>\n",
       "      <td>0.063462</td>\n",
       "      <td>76.419355</td>\n",
       "      <td>Jun</td>\n",
       "      <td>14</td>\n",
       "      <td>0.136800</td>\n",
       "      <td>71.730769</td>\n",
       "      <td>Dec</td>\n",
       "    </tr>\n",
       "    <tr>\n",
       "      <th>14</th>\n",
       "      <td>15.0</td>\n",
       "      <td>0.039200</td>\n",
       "      <td>76.166667</td>\n",
       "      <td>Jun</td>\n",
       "      <td>15</td>\n",
       "      <td>0.035652</td>\n",
       "      <td>72.160000</td>\n",
       "      <td>Dec</td>\n",
       "    </tr>\n",
       "    <tr>\n",
       "      <th>15</th>\n",
       "      <td>16.0</td>\n",
       "      <td>0.031200</td>\n",
       "      <td>76.566667</td>\n",
       "      <td>Jun</td>\n",
       "      <td>16</td>\n",
       "      <td>0.126364</td>\n",
       "      <td>70.250000</td>\n",
       "      <td>Dec</td>\n",
       "    </tr>\n",
       "    <tr>\n",
       "      <th>16</th>\n",
       "      <td>17.0</td>\n",
       "      <td>0.079655</td>\n",
       "      <td>75.451613</td>\n",
       "      <td>Jun</td>\n",
       "      <td>17</td>\n",
       "      <td>0.033636</td>\n",
       "      <td>71.384615</td>\n",
       "      <td>Dec</td>\n",
       "    </tr>\n",
       "    <tr>\n",
       "      <th>17</th>\n",
       "      <td>18.0</td>\n",
       "      <td>0.070345</td>\n",
       "      <td>75.400000</td>\n",
       "      <td>Jun</td>\n",
       "      <td>18</td>\n",
       "      <td>0.083182</td>\n",
       "      <td>72.120000</td>\n",
       "      <td>Dec</td>\n",
       "    </tr>\n",
       "    <tr>\n",
       "      <th>18</th>\n",
       "      <td>19.0</td>\n",
       "      <td>0.036897</td>\n",
       "      <td>76.700000</td>\n",
       "      <td>Jun</td>\n",
       "      <td>19</td>\n",
       "      <td>0.606818</td>\n",
       "      <td>72.692308</td>\n",
       "      <td>Dec</td>\n",
       "    </tr>\n",
       "    <tr>\n",
       "      <th>19</th>\n",
       "      <td>20.0</td>\n",
       "      <td>0.075357</td>\n",
       "      <td>75.225806</td>\n",
       "      <td>Jun</td>\n",
       "      <td>20</td>\n",
       "      <td>0.686000</td>\n",
       "      <td>73.181818</td>\n",
       "      <td>Dec</td>\n",
       "    </tr>\n",
       "    <tr>\n",
       "      <th>20</th>\n",
       "      <td>21.0</td>\n",
       "      <td>0.062222</td>\n",
       "      <td>75.774194</td>\n",
       "      <td>Jun</td>\n",
       "      <td>21</td>\n",
       "      <td>0.136842</td>\n",
       "      <td>73.047619</td>\n",
       "      <td>Dec</td>\n",
       "    </tr>\n",
       "    <tr>\n",
       "      <th>21</th>\n",
       "      <td>22.0</td>\n",
       "      <td>0.079615</td>\n",
       "      <td>76.206897</td>\n",
       "      <td>Jun</td>\n",
       "      <td>22</td>\n",
       "      <td>0.067500</td>\n",
       "      <td>72.000000</td>\n",
       "      <td>Dec</td>\n",
       "    </tr>\n",
       "    <tr>\n",
       "      <th>22</th>\n",
       "      <td>23.0</td>\n",
       "      <td>0.063600</td>\n",
       "      <td>75.642857</td>\n",
       "      <td>Jun</td>\n",
       "      <td>23</td>\n",
       "      <td>0.165500</td>\n",
       "      <td>71.458333</td>\n",
       "      <td>Dec</td>\n",
       "    </tr>\n",
       "    <tr>\n",
       "      <th>23</th>\n",
       "      <td>24.0</td>\n",
       "      <td>0.080000</td>\n",
       "      <td>76.107143</td>\n",
       "      <td>Jun</td>\n",
       "      <td>24</td>\n",
       "      <td>0.093684</td>\n",
       "      <td>70.565217</td>\n",
       "      <td>Dec</td>\n",
       "    </tr>\n",
       "    <tr>\n",
       "      <th>24</th>\n",
       "      <td>25.0</td>\n",
       "      <td>0.116800</td>\n",
       "      <td>75.206897</td>\n",
       "      <td>Jun</td>\n",
       "      <td>25</td>\n",
       "      <td>0.288462</td>\n",
       "      <td>72.600000</td>\n",
       "      <td>Dec</td>\n",
       "    </tr>\n",
       "    <tr>\n",
       "      <th>25</th>\n",
       "      <td>26.0</td>\n",
       "      <td>0.112273</td>\n",
       "      <td>75.481481</td>\n",
       "      <td>Jun</td>\n",
       "      <td>26</td>\n",
       "      <td>0.152000</td>\n",
       "      <td>71.681818</td>\n",
       "      <td>Dec</td>\n",
       "    </tr>\n",
       "    <tr>\n",
       "      <th>26</th>\n",
       "      <td>27.0</td>\n",
       "      <td>0.040833</td>\n",
       "      <td>76.413793</td>\n",
       "      <td>Jun</td>\n",
       "      <td>27</td>\n",
       "      <td>0.081000</td>\n",
       "      <td>72.652174</td>\n",
       "      <td>Dec</td>\n",
       "    </tr>\n",
       "    <tr>\n",
       "      <th>27</th>\n",
       "      <td>28.0</td>\n",
       "      <td>0.034167</td>\n",
       "      <td>75.857143</td>\n",
       "      <td>Jun</td>\n",
       "      <td>28</td>\n",
       "      <td>0.158421</td>\n",
       "      <td>71.000000</td>\n",
       "      <td>Dec</td>\n",
       "    </tr>\n",
       "    <tr>\n",
       "      <th>28</th>\n",
       "      <td>29.0</td>\n",
       "      <td>0.048750</td>\n",
       "      <td>76.258065</td>\n",
       "      <td>Jun</td>\n",
       "      <td>29</td>\n",
       "      <td>0.056316</td>\n",
       "      <td>70.565217</td>\n",
       "      <td>Dec</td>\n",
       "    </tr>\n",
       "    <tr>\n",
       "      <th>29</th>\n",
       "      <td>30.0</td>\n",
       "      <td>0.062800</td>\n",
       "      <td>76.814815</td>\n",
       "      <td>Jun</td>\n",
       "      <td>30</td>\n",
       "      <td>0.066000</td>\n",
       "      <td>70.761905</td>\n",
       "      <td>Dec</td>\n",
       "    </tr>\n",
       "    <tr>\n",
       "      <th>30</th>\n",
       "      <td>NaN</td>\n",
       "      <td>NaN</td>\n",
       "      <td>NaN</td>\n",
       "      <td>NaN</td>\n",
       "      <td>31</td>\n",
       "      <td>0.133684</td>\n",
       "      <td>69.142857</td>\n",
       "      <td>Dec</td>\n",
       "    </tr>\n",
       "  </tbody>\n",
       "</table>\n",
       "</div>"
      ],
      "text/plain": [
       "    day_jun  prcp_jun   tobs_jun month_jun  day_dec  prcp_dec   tobs_dec  \\\n",
       "0       1.0  0.076667  75.035714       Jun        1  0.110435  72.400000   \n",
       "1       2.0  0.069167  74.962963       Jun        2  0.214348  71.925926   \n",
       "2       3.0  0.206923  74.833333       Jun        3  0.138750  73.464286   \n",
       "3       4.0  0.286000  74.678571       Jun        4  0.153333  73.192308   \n",
       "4       5.0  0.318846  75.750000       Jun        5  0.073913  71.769231   \n",
       "5       6.0  0.026923  76.100000       Jun        6  0.049130  70.259259   \n",
       "6       7.0  0.028800  76.103448       Jun        7  0.018095  70.346154   \n",
       "7       8.0  0.018750  76.000000       Jun        8  0.045417  70.592593   \n",
       "8       9.0  0.020000  76.322581       Jun        9  0.134167  72.964286   \n",
       "9      10.0  0.050690  75.862069       Jun       10  0.492308  72.035714   \n",
       "10     11.0  0.040000  76.458333       Jun       11  0.198333  72.916667   \n",
       "11     12.0  0.044400  76.172414       Jun       12  0.105652  72.038462   \n",
       "12     13.0  0.035556  76.903226       Jun       13  0.288846  71.357143   \n",
       "13     14.0  0.063462  76.419355       Jun       14  0.136800  71.730769   \n",
       "14     15.0  0.039200  76.166667       Jun       15  0.035652  72.160000   \n",
       "15     16.0  0.031200  76.566667       Jun       16  0.126364  70.250000   \n",
       "16     17.0  0.079655  75.451613       Jun       17  0.033636  71.384615   \n",
       "17     18.0  0.070345  75.400000       Jun       18  0.083182  72.120000   \n",
       "18     19.0  0.036897  76.700000       Jun       19  0.606818  72.692308   \n",
       "19     20.0  0.075357  75.225806       Jun       20  0.686000  73.181818   \n",
       "20     21.0  0.062222  75.774194       Jun       21  0.136842  73.047619   \n",
       "21     22.0  0.079615  76.206897       Jun       22  0.067500  72.000000   \n",
       "22     23.0  0.063600  75.642857       Jun       23  0.165500  71.458333   \n",
       "23     24.0  0.080000  76.107143       Jun       24  0.093684  70.565217   \n",
       "24     25.0  0.116800  75.206897       Jun       25  0.288462  72.600000   \n",
       "25     26.0  0.112273  75.481481       Jun       26  0.152000  71.681818   \n",
       "26     27.0  0.040833  76.413793       Jun       27  0.081000  72.652174   \n",
       "27     28.0  0.034167  75.857143       Jun       28  0.158421  71.000000   \n",
       "28     29.0  0.048750  76.258065       Jun       29  0.056316  70.565217   \n",
       "29     30.0  0.062800  76.814815       Jun       30  0.066000  70.761905   \n",
       "30      NaN       NaN        NaN       NaN       31  0.133684  69.142857   \n",
       "\n",
       "   month_dec  \n",
       "0        Dec  \n",
       "1        Dec  \n",
       "2        Dec  \n",
       "3        Dec  \n",
       "4        Dec  \n",
       "5        Dec  \n",
       "6        Dec  \n",
       "7        Dec  \n",
       "8        Dec  \n",
       "9        Dec  \n",
       "10       Dec  \n",
       "11       Dec  \n",
       "12       Dec  \n",
       "13       Dec  \n",
       "14       Dec  \n",
       "15       Dec  \n",
       "16       Dec  \n",
       "17       Dec  \n",
       "18       Dec  \n",
       "19       Dec  \n",
       "20       Dec  \n",
       "21       Dec  \n",
       "22       Dec  \n",
       "23       Dec  \n",
       "24       Dec  \n",
       "25       Dec  \n",
       "26       Dec  \n",
       "27       Dec  \n",
       "28       Dec  \n",
       "29       Dec  \n",
       "30       Dec  "
      ]
     },
     "execution_count": 30,
     "metadata": {},
     "output_type": "execute_result"
    }
   ],
   "source": [
    "mean_jun.join(mean_dec, how=\"right\", lsuffix=\"_jun\", rsuffix=\"_dec\")"
   ]
  },
  {
   "cell_type": "code",
   "execution_count": 20,
   "id": "e1241a20-8352-423f-9bd7-a32f59fd3e7f",
   "metadata": {},
   "outputs": [],
   "source": [
    "mean_jun_dec = pd.concat([mean_jun, mean_dec], ignore_index=True)"
   ]
  },
  {
   "cell_type": "code",
   "execution_count": 26,
   "id": "237bc3b0-250c-4322-8882-20ac99eba472",
   "metadata": {},
   "outputs": [
    {
     "data": {
      "application/vnd.plotly.v1+json": {
       "config": {
        "plotlyServerURL": "https://plot.ly"
       },
       "data": [
        {
         "hovertemplate": "Month=Jun<br>Day of month=%{x}<br>Temperature=%{y}<extra></extra>",
         "legendgroup": "Jun",
         "line": {
          "color": "#636efa",
          "dash": "solid"
         },
         "marker": {
          "symbol": "circle"
         },
         "mode": "markers+lines",
         "name": "Jun",
         "orientation": "v",
         "showlegend": true,
         "type": "scatter",
         "x": [
          1,
          2,
          3,
          4,
          5,
          6,
          7,
          8,
          9,
          10,
          11,
          12,
          13,
          14,
          15,
          16,
          17,
          18,
          19,
          20,
          21,
          22,
          23,
          24,
          25,
          26,
          27,
          28,
          29,
          30
         ],
         "xaxis": "x",
         "y": [
          75.03571428571429,
          74.96296296296296,
          74.83333333333333,
          74.67857142857143,
          75.75,
          76.1,
          76.10344827586206,
          76,
          76.3225806451613,
          75.86206896551724,
          76.45833333333333,
          76.17241379310344,
          76.90322580645162,
          76.41935483870968,
          76.16666666666667,
          76.56666666666666,
          75.45161290322581,
          75.4,
          76.7,
          75.2258064516129,
          75.7741935483871,
          76.20689655172414,
          75.64285714285714,
          76.10714285714286,
          75.20689655172414,
          75.48148148148148,
          76.41379310344827,
          75.85714285714286,
          76.25806451612904,
          76.81481481481481
         ],
         "yaxis": "y"
        },
        {
         "hovertemplate": "Month=Dec<br>Day of month=%{x}<br>Temperature=%{y}<extra></extra>",
         "legendgroup": "Dec",
         "line": {
          "color": "#EF553B",
          "dash": "solid"
         },
         "marker": {
          "symbol": "circle"
         },
         "mode": "markers+lines",
         "name": "Dec",
         "orientation": "v",
         "showlegend": true,
         "type": "scatter",
         "x": [
          1,
          2,
          3,
          4,
          5,
          6,
          7,
          8,
          9,
          10,
          11,
          12,
          13,
          14,
          15,
          16,
          17,
          18,
          19,
          20,
          21,
          22,
          23,
          24,
          25,
          26,
          27,
          28,
          29,
          30,
          31
         ],
         "xaxis": "x",
         "y": [
          72.4,
          71.92592592592592,
          73.46428571428571,
          73.1923076923077,
          71.76923076923077,
          70.25925925925925,
          70.34615384615384,
          70.5925925925926,
          72.96428571428571,
          72.03571428571429,
          72.91666666666667,
          72.03846153846153,
          71.35714285714286,
          71.73076923076923,
          72.16,
          70.25,
          71.38461538461539,
          72.12,
          72.6923076923077,
          73.18181818181819,
          73.04761904761905,
          72,
          71.45833333333333,
          70.56521739130434,
          72.6,
          71.68181818181819,
          72.65217391304348,
          71,
          70.56521739130434,
          70.76190476190476,
          69.14285714285714
         ],
         "yaxis": "y"
        }
       ],
       "layout": {
        "autosize": true,
        "legend": {
         "title": {
          "text": "Month"
         },
         "tracegroupgap": 0
        },
        "template": {
         "data": {
          "bar": [
           {
            "error_x": {
             "color": "#2a3f5f"
            },
            "error_y": {
             "color": "#2a3f5f"
            },
            "marker": {
             "line": {
              "color": "#E5ECF6",
              "width": 0.5
             },
             "pattern": {
              "fillmode": "overlay",
              "size": 10,
              "solidity": 0.2
             }
            },
            "type": "bar"
           }
          ],
          "barpolar": [
           {
            "marker": {
             "line": {
              "color": "#E5ECF6",
              "width": 0.5
             },
             "pattern": {
              "fillmode": "overlay",
              "size": 10,
              "solidity": 0.2
             }
            },
            "type": "barpolar"
           }
          ],
          "carpet": [
           {
            "aaxis": {
             "endlinecolor": "#2a3f5f",
             "gridcolor": "white",
             "linecolor": "white",
             "minorgridcolor": "white",
             "startlinecolor": "#2a3f5f"
            },
            "baxis": {
             "endlinecolor": "#2a3f5f",
             "gridcolor": "white",
             "linecolor": "white",
             "minorgridcolor": "white",
             "startlinecolor": "#2a3f5f"
            },
            "type": "carpet"
           }
          ],
          "choropleth": [
           {
            "colorbar": {
             "outlinewidth": 0,
             "ticks": ""
            },
            "type": "choropleth"
           }
          ],
          "contour": [
           {
            "colorbar": {
             "outlinewidth": 0,
             "ticks": ""
            },
            "colorscale": [
             [
              0,
              "#0d0887"
             ],
             [
              0.1111111111111111,
              "#46039f"
             ],
             [
              0.2222222222222222,
              "#7201a8"
             ],
             [
              0.3333333333333333,
              "#9c179e"
             ],
             [
              0.4444444444444444,
              "#bd3786"
             ],
             [
              0.5555555555555556,
              "#d8576b"
             ],
             [
              0.6666666666666666,
              "#ed7953"
             ],
             [
              0.7777777777777778,
              "#fb9f3a"
             ],
             [
              0.8888888888888888,
              "#fdca26"
             ],
             [
              1,
              "#f0f921"
             ]
            ],
            "type": "contour"
           }
          ],
          "contourcarpet": [
           {
            "colorbar": {
             "outlinewidth": 0,
             "ticks": ""
            },
            "type": "contourcarpet"
           }
          ],
          "heatmap": [
           {
            "colorbar": {
             "outlinewidth": 0,
             "ticks": ""
            },
            "colorscale": [
             [
              0,
              "#0d0887"
             ],
             [
              0.1111111111111111,
              "#46039f"
             ],
             [
              0.2222222222222222,
              "#7201a8"
             ],
             [
              0.3333333333333333,
              "#9c179e"
             ],
             [
              0.4444444444444444,
              "#bd3786"
             ],
             [
              0.5555555555555556,
              "#d8576b"
             ],
             [
              0.6666666666666666,
              "#ed7953"
             ],
             [
              0.7777777777777778,
              "#fb9f3a"
             ],
             [
              0.8888888888888888,
              "#fdca26"
             ],
             [
              1,
              "#f0f921"
             ]
            ],
            "type": "heatmap"
           }
          ],
          "heatmapgl": [
           {
            "colorbar": {
             "outlinewidth": 0,
             "ticks": ""
            },
            "colorscale": [
             [
              0,
              "#0d0887"
             ],
             [
              0.1111111111111111,
              "#46039f"
             ],
             [
              0.2222222222222222,
              "#7201a8"
             ],
             [
              0.3333333333333333,
              "#9c179e"
             ],
             [
              0.4444444444444444,
              "#bd3786"
             ],
             [
              0.5555555555555556,
              "#d8576b"
             ],
             [
              0.6666666666666666,
              "#ed7953"
             ],
             [
              0.7777777777777778,
              "#fb9f3a"
             ],
             [
              0.8888888888888888,
              "#fdca26"
             ],
             [
              1,
              "#f0f921"
             ]
            ],
            "type": "heatmapgl"
           }
          ],
          "histogram": [
           {
            "marker": {
             "pattern": {
              "fillmode": "overlay",
              "size": 10,
              "solidity": 0.2
             }
            },
            "type": "histogram"
           }
          ],
          "histogram2d": [
           {
            "colorbar": {
             "outlinewidth": 0,
             "ticks": ""
            },
            "colorscale": [
             [
              0,
              "#0d0887"
             ],
             [
              0.1111111111111111,
              "#46039f"
             ],
             [
              0.2222222222222222,
              "#7201a8"
             ],
             [
              0.3333333333333333,
              "#9c179e"
             ],
             [
              0.4444444444444444,
              "#bd3786"
             ],
             [
              0.5555555555555556,
              "#d8576b"
             ],
             [
              0.6666666666666666,
              "#ed7953"
             ],
             [
              0.7777777777777778,
              "#fb9f3a"
             ],
             [
              0.8888888888888888,
              "#fdca26"
             ],
             [
              1,
              "#f0f921"
             ]
            ],
            "type": "histogram2d"
           }
          ],
          "histogram2dcontour": [
           {
            "colorbar": {
             "outlinewidth": 0,
             "ticks": ""
            },
            "colorscale": [
             [
              0,
              "#0d0887"
             ],
             [
              0.1111111111111111,
              "#46039f"
             ],
             [
              0.2222222222222222,
              "#7201a8"
             ],
             [
              0.3333333333333333,
              "#9c179e"
             ],
             [
              0.4444444444444444,
              "#bd3786"
             ],
             [
              0.5555555555555556,
              "#d8576b"
             ],
             [
              0.6666666666666666,
              "#ed7953"
             ],
             [
              0.7777777777777778,
              "#fb9f3a"
             ],
             [
              0.8888888888888888,
              "#fdca26"
             ],
             [
              1,
              "#f0f921"
             ]
            ],
            "type": "histogram2dcontour"
           }
          ],
          "mesh3d": [
           {
            "colorbar": {
             "outlinewidth": 0,
             "ticks": ""
            },
            "type": "mesh3d"
           }
          ],
          "parcoords": [
           {
            "line": {
             "colorbar": {
              "outlinewidth": 0,
              "ticks": ""
             }
            },
            "type": "parcoords"
           }
          ],
          "pie": [
           {
            "automargin": true,
            "type": "pie"
           }
          ],
          "scatter": [
           {
            "fillpattern": {
             "fillmode": "overlay",
             "size": 10,
             "solidity": 0.2
            },
            "type": "scatter"
           }
          ],
          "scatter3d": [
           {
            "line": {
             "colorbar": {
              "outlinewidth": 0,
              "ticks": ""
             }
            },
            "marker": {
             "colorbar": {
              "outlinewidth": 0,
              "ticks": ""
             }
            },
            "type": "scatter3d"
           }
          ],
          "scattercarpet": [
           {
            "marker": {
             "colorbar": {
              "outlinewidth": 0,
              "ticks": ""
             }
            },
            "type": "scattercarpet"
           }
          ],
          "scattergeo": [
           {
            "marker": {
             "colorbar": {
              "outlinewidth": 0,
              "ticks": ""
             }
            },
            "type": "scattergeo"
           }
          ],
          "scattergl": [
           {
            "marker": {
             "colorbar": {
              "outlinewidth": 0,
              "ticks": ""
             }
            },
            "type": "scattergl"
           }
          ],
          "scattermapbox": [
           {
            "marker": {
             "colorbar": {
              "outlinewidth": 0,
              "ticks": ""
             }
            },
            "type": "scattermapbox"
           }
          ],
          "scatterpolar": [
           {
            "marker": {
             "colorbar": {
              "outlinewidth": 0,
              "ticks": ""
             }
            },
            "type": "scatterpolar"
           }
          ],
          "scatterpolargl": [
           {
            "marker": {
             "colorbar": {
              "outlinewidth": 0,
              "ticks": ""
             }
            },
            "type": "scatterpolargl"
           }
          ],
          "scatterternary": [
           {
            "marker": {
             "colorbar": {
              "outlinewidth": 0,
              "ticks": ""
             }
            },
            "type": "scatterternary"
           }
          ],
          "surface": [
           {
            "colorbar": {
             "outlinewidth": 0,
             "ticks": ""
            },
            "colorscale": [
             [
              0,
              "#0d0887"
             ],
             [
              0.1111111111111111,
              "#46039f"
             ],
             [
              0.2222222222222222,
              "#7201a8"
             ],
             [
              0.3333333333333333,
              "#9c179e"
             ],
             [
              0.4444444444444444,
              "#bd3786"
             ],
             [
              0.5555555555555556,
              "#d8576b"
             ],
             [
              0.6666666666666666,
              "#ed7953"
             ],
             [
              0.7777777777777778,
              "#fb9f3a"
             ],
             [
              0.8888888888888888,
              "#fdca26"
             ],
             [
              1,
              "#f0f921"
             ]
            ],
            "type": "surface"
           }
          ],
          "table": [
           {
            "cells": {
             "fill": {
              "color": "#EBF0F8"
             },
             "line": {
              "color": "white"
             }
            },
            "header": {
             "fill": {
              "color": "#C8D4E3"
             },
             "line": {
              "color": "white"
             }
            },
            "type": "table"
           }
          ]
         },
         "layout": {
          "annotationdefaults": {
           "arrowcolor": "#2a3f5f",
           "arrowhead": 0,
           "arrowwidth": 1
          },
          "autotypenumbers": "strict",
          "coloraxis": {
           "colorbar": {
            "outlinewidth": 0,
            "ticks": ""
           }
          },
          "colorscale": {
           "diverging": [
            [
             0,
             "#8e0152"
            ],
            [
             0.1,
             "#c51b7d"
            ],
            [
             0.2,
             "#de77ae"
            ],
            [
             0.3,
             "#f1b6da"
            ],
            [
             0.4,
             "#fde0ef"
            ],
            [
             0.5,
             "#f7f7f7"
            ],
            [
             0.6,
             "#e6f5d0"
            ],
            [
             0.7,
             "#b8e186"
            ],
            [
             0.8,
             "#7fbc41"
            ],
            [
             0.9,
             "#4d9221"
            ],
            [
             1,
             "#276419"
            ]
           ],
           "sequential": [
            [
             0,
             "#0d0887"
            ],
            [
             0.1111111111111111,
             "#46039f"
            ],
            [
             0.2222222222222222,
             "#7201a8"
            ],
            [
             0.3333333333333333,
             "#9c179e"
            ],
            [
             0.4444444444444444,
             "#bd3786"
            ],
            [
             0.5555555555555556,
             "#d8576b"
            ],
            [
             0.6666666666666666,
             "#ed7953"
            ],
            [
             0.7777777777777778,
             "#fb9f3a"
            ],
            [
             0.8888888888888888,
             "#fdca26"
            ],
            [
             1,
             "#f0f921"
            ]
           ],
           "sequentialminus": [
            [
             0,
             "#0d0887"
            ],
            [
             0.1111111111111111,
             "#46039f"
            ],
            [
             0.2222222222222222,
             "#7201a8"
            ],
            [
             0.3333333333333333,
             "#9c179e"
            ],
            [
             0.4444444444444444,
             "#bd3786"
            ],
            [
             0.5555555555555556,
             "#d8576b"
            ],
            [
             0.6666666666666666,
             "#ed7953"
            ],
            [
             0.7777777777777778,
             "#fb9f3a"
            ],
            [
             0.8888888888888888,
             "#fdca26"
            ],
            [
             1,
             "#f0f921"
            ]
           ]
          },
          "colorway": [
           "#636efa",
           "#EF553B",
           "#00cc96",
           "#ab63fa",
           "#FFA15A",
           "#19d3f3",
           "#FF6692",
           "#B6E880",
           "#FF97FF",
           "#FECB52"
          ],
          "font": {
           "color": "#2a3f5f"
          },
          "geo": {
           "bgcolor": "white",
           "lakecolor": "white",
           "landcolor": "#E5ECF6",
           "showlakes": true,
           "showland": true,
           "subunitcolor": "white"
          },
          "hoverlabel": {
           "align": "left"
          },
          "hovermode": "closest",
          "mapbox": {
           "style": "light"
          },
          "paper_bgcolor": "white",
          "plot_bgcolor": "#E5ECF6",
          "polar": {
           "angularaxis": {
            "gridcolor": "white",
            "linecolor": "white",
            "ticks": ""
           },
           "bgcolor": "#E5ECF6",
           "radialaxis": {
            "gridcolor": "white",
            "linecolor": "white",
            "ticks": ""
           }
          },
          "scene": {
           "xaxis": {
            "backgroundcolor": "#E5ECF6",
            "gridcolor": "white",
            "gridwidth": 2,
            "linecolor": "white",
            "showbackground": true,
            "ticks": "",
            "zerolinecolor": "white"
           },
           "yaxis": {
            "backgroundcolor": "#E5ECF6",
            "gridcolor": "white",
            "gridwidth": 2,
            "linecolor": "white",
            "showbackground": true,
            "ticks": "",
            "zerolinecolor": "white"
           },
           "zaxis": {
            "backgroundcolor": "#E5ECF6",
            "gridcolor": "white",
            "gridwidth": 2,
            "linecolor": "white",
            "showbackground": true,
            "ticks": "",
            "zerolinecolor": "white"
           }
          },
          "shapedefaults": {
           "line": {
            "color": "#2a3f5f"
           }
          },
          "ternary": {
           "aaxis": {
            "gridcolor": "white",
            "linecolor": "white",
            "ticks": ""
           },
           "baxis": {
            "gridcolor": "white",
            "linecolor": "white",
            "ticks": ""
           },
           "bgcolor": "#E5ECF6",
           "caxis": {
            "gridcolor": "white",
            "linecolor": "white",
            "ticks": ""
           }
          },
          "title": {
           "x": 0.05
          },
          "xaxis": {
           "automargin": true,
           "gridcolor": "white",
           "linecolor": "white",
           "ticks": "",
           "title": {
            "standoff": 15
           },
           "zerolinecolor": "white",
           "zerolinewidth": 2
          },
          "yaxis": {
           "automargin": true,
           "gridcolor": "white",
           "linecolor": "white",
           "ticks": "",
           "title": {
            "standoff": 15
           },
           "zerolinecolor": "white",
           "zerolinewidth": 2
          }
         }
        },
        "title": {
         "text": "Average Daily Temperature in Hawaii"
        },
        "xaxis": {
         "anchor": "y",
         "autorange": true,
         "domain": [
          0,
          1
         ],
         "range": [
          -0.9514695830485305,
          32.95146958304853
         ],
         "title": {
          "text": "Day of month"
         },
         "type": "linear"
        },
        "yaxis": {
         "anchor": "x",
         "autorange": true,
         "domain": [
          0,
          1
         ],
         "range": [
          68.50243836964789,
          77.54364457966086
         ],
         "title": {
          "text": "Temperature"
         },
         "type": "linear"
        }
       }
      },
      "image/png": "[encoded data removed]",
      "text/html": [
       "<div>                            <div id=\"8db7d470-cdac-46de-b767-f68e990ba9b5\" class=\"plotly-graph-div\" style=\"height:525px; width:100%;\"></div>            <script type=\"text/javascript\">                require([\"plotly\"], function(Plotly) {                    window.PLOTLYENV=window.PLOTLYENV || {};                                    if (document.getElementById(\"8db7d470-cdac-46de-b767-f68e990ba9b5\")) {                    Plotly.newPlot(                        \"8db7d470-cdac-46de-b767-f68e990ba9b5\",                        [{\"hovertemplate\":\"Month=Jun<br>Day of month=%{x}<br>Temperature=%{y}<extra></extra>\",\"legendgroup\":\"Jun\",\"line\":{\"color\":\"#636efa\",\"dash\":\"solid\"},\"marker\":{\"symbol\":\"circle\"},\"mode\":\"markers+lines\",\"name\":\"Jun\",\"orientation\":\"v\",\"showlegend\":true,\"x\":[1,2,3,4,5,6,7,8,9,10,11,12,13,14,15,16,17,18,19,20,21,22,23,24,25,26,27,28,29,30],\"xaxis\":\"x\",\"y\":[75.03571428571429,74.96296296296296,74.83333333333333,74.67857142857143,75.75,76.1,76.10344827586206,76.0,76.3225806451613,75.86206896551724,76.45833333333333,76.17241379310344,76.90322580645162,76.41935483870968,76.16666666666667,76.56666666666666,75.45161290322581,75.4,76.7,75.2258064516129,75.7741935483871,76.20689655172414,75.64285714285714,76.10714285714286,75.20689655172414,75.48148148148148,76.41379310344827,75.85714285714286,76.25806451612904,76.81481481481481],\"yaxis\":\"y\",\"type\":\"scatter\"},{\"hovertemplate\":\"Month=Dec<br>Day of month=%{x}<br>Temperature=%{y}<extra></extra>\",\"legendgroup\":\"Dec\",\"line\":{\"color\":\"#EF553B\",\"dash\":\"solid\"},\"marker\":{\"symbol\":\"circle\"},\"mode\":\"markers+lines\",\"name\":\"Dec\",\"orientation\":\"v\",\"showlegend\":true,\"x\":[1,2,3,4,5,6,7,8,9,10,11,12,13,14,15,16,17,18,19,20,21,22,23,24,25,26,27,28,29,30,31],\"xaxis\":\"x\",\"y\":[72.4,71.92592592592592,73.46428571428571,73.1923076923077,71.76923076923077,70.25925925925925,70.34615384615384,70.5925925925926,72.96428571428571,72.03571428571429,72.91666666666667,72.03846153846153,71.35714285714286,71.73076923076923,72.16,70.25,71.38461538461539,72.12,72.6923076923077,73.18181818181819,73.04761904761905,72.0,71.45833333333333,70.56521739130434,72.6,71.68181818181819,72.65217391304348,71.0,70.56521739130434,70.76190476190476,69.14285714285714],\"yaxis\":\"y\",\"type\":\"scatter\"}],                        {\"template\":{\"data\":{\"histogram2dcontour\":[{\"type\":\"histogram2dcontour\",\"colorbar\":{\"outlinewidth\":0,\"ticks\":\"\"},\"colorscale\":[[0.0,\"#0d0887\"],[0.1111111111111111,\"#46039f\"],[0.2222222222222222,\"#7201a8\"],[0.3333333333333333,\"#9c179e\"],[0.4444444444444444,\"#bd3786\"],[0.5555555555555556,\"#d8576b\"],[0.6666666666666666,\"#ed7953\"],[0.7777777777777778,\"#fb9f3a\"],[0.8888888888888888,\"#fdca26\"],[1.0,\"#f0f921\"]]}],\"choropleth\":[{\"type\":\"choropleth\",\"colorbar\":{\"outlinewidth\":0,\"ticks\":\"\"}}],\"histogram2d\":[{\"type\":\"histogram2d\",\"colorbar\":{\"outlinewidth\":0,\"ticks\":\"\"},\"colorscale\":[[0.0,\"#0d0887\"],[0.1111111111111111,\"#46039f\"],[0.2222222222222222,\"#7201a8\"],[0.3333333333333333,\"#9c179e\"],[0.4444444444444444,\"#bd3786\"],[0.5555555555555556,\"#d8576b\"],[0.6666666666666666,\"#ed7953\"],[0.7777777777777778,\"#fb9f3a\"],[0.8888888888888888,\"#fdca26\"],[1.0,\"#f0f921\"]]}],\"heatmap\":[{\"type\":\"heatmap\",\"colorbar\":{\"outlinewidth\":0,\"ticks\":\"\"},\"colorscale\":[[0.0,\"#0d0887\"],[0.1111111111111111,\"#46039f\"],[0.2222222222222222,\"#7201a8\"],[0.3333333333333333,\"#9c179e\"],[0.4444444444444444,\"#bd3786\"],[0.5555555555555556,\"#d8576b\"],[0.6666666666666666,\"#ed7953\"],[0.7777777777777778,\"#fb9f3a\"],[0.8888888888888888,\"#fdca26\"],[1.0,\"#f0f921\"]]}],\"heatmapgl\":[{\"type\":\"heatmapgl\",\"colorbar\":{\"outlinewidth\":0,\"ticks\":\"\"},\"colorscale\":[[0.0,\"#0d0887\"],[0.1111111111111111,\"#46039f\"],[0.2222222222222222,\"#7201a8\"],[0.3333333333333333,\"#9c179e\"],[0.4444444444444444,\"#bd3786\"],[0.5555555555555556,\"#d8576b\"],[0.6666666666666666,\"#ed7953\"],[0.7777777777777778,\"#fb9f3a\"],[0.8888888888888888,\"#fdca26\"],[1.0,\"#f0f921\"]]}],\"contourcarpet\":[{\"type\":\"contourcarpet\",\"colorbar\":{\"outlinewidth\":0,\"ticks\":\"\"}}],\"contour\":[{\"type\":\"contour\",\"colorbar\":{\"outlinewidth\":0,\"ticks\":\"\"},\"colorscale\":[[0.0,\"#0d0887\"],[0.1111111111111111,\"#46039f\"],[0.2222222222222222,\"#7201a8\"],[0.3333333333333333,\"#9c179e\"],[0.4444444444444444,\"#bd3786\"],[0.5555555555555556,\"#d8576b\"],[0.6666666666666666,\"#ed7953\"],[0.7777777777777778,\"#fb9f3a\"],[0.8888888888888888,\"#fdca26\"],[1.0,\"#f0f921\"]]}],\"surface\":[{\"type\":\"surface\",\"colorbar\":{\"outlinewidth\":0,\"ticks\":\"\"},\"colorscale\":[[0.0,\"#0d0887\"],[0.1111111111111111,\"#46039f\"],[0.2222222222222222,\"#7201a8\"],[0.3333333333333333,\"#9c179e\"],[0.4444444444444444,\"#bd3786\"],[0.5555555555555556,\"#d8576b\"],[0.6666666666666666,\"#ed7953\"],[0.7777777777777778,\"#fb9f3a\"],[0.8888888888888888,\"#fdca26\"],[1.0,\"#f0f921\"]]}],\"mesh3d\":[{\"type\":\"mesh3d\",\"colorbar\":{\"outlinewidth\":0,\"ticks\":\"\"}}],\"scatter\":[{\"fillpattern\":{\"fillmode\":\"overlay\",\"size\":10,\"solidity\":0.2},\"type\":\"scatter\"}],\"parcoords\":[{\"type\":\"parcoords\",\"line\":{\"colorbar\":{\"outlinewidth\":0,\"ticks\":\"\"}}}],\"scatterpolargl\":[{\"type\":\"scatterpolargl\",\"marker\":{\"colorbar\":{\"outlinewidth\":0,\"ticks\":\"\"}}}],\"bar\":[{\"error_x\":{\"color\":\"#2a3f5f\"},\"error_y\":{\"color\":\"#2a3f5f\"},\"marker\":{\"line\":{\"color\":\"#E5ECF6\",\"width\":0.5},\"pattern\":{\"fillmode\":\"overlay\",\"size\":10,\"solidity\":0.2}},\"type\":\"bar\"}],\"scattergeo\":[{\"type\":\"scattergeo\",\"marker\":{\"colorbar\":{\"outlinewidth\":0,\"ticks\":\"\"}}}],\"scatterpolar\":[{\"type\":\"scatterpolar\",\"marker\":{\"colorbar\":{\"outlinewidth\":0,\"ticks\":\"\"}}}],\"histogram\":[{\"marker\":{\"pattern\":{\"fillmode\":\"overlay\",\"size\":10,\"solidity\":0.2}},\"type\":\"histogram\"}],\"scattergl\":[{\"type\":\"scattergl\",\"marker\":{\"colorbar\":{\"outlinewidth\":0,\"ticks\":\"\"}}}],\"scatter3d\":[{\"type\":\"scatter3d\",\"line\":{\"colorbar\":{\"outlinewidth\":0,\"ticks\":\"\"}},\"marker\":{\"colorbar\":{\"outlinewidth\":0,\"ticks\":\"\"}}}],\"scattermapbox\":[{\"type\":\"scattermapbox\",\"marker\":{\"colorbar\":{\"outlinewidth\":0,\"ticks\":\"\"}}}],\"scatterternary\":[{\"type\":\"scatterternary\",\"marker\":{\"colorbar\":{\"outlinewidth\":0,\"ticks\":\"\"}}}],\"scattercarpet\":[{\"type\":\"scattercarpet\",\"marker\":{\"colorbar\":{\"outlinewidth\":0,\"ticks\":\"\"}}}],\"carpet\":[{\"aaxis\":{\"endlinecolor\":\"#2a3f5f\",\"gridcolor\":\"white\",\"linecolor\":\"white\",\"minorgridcolor\":\"white\",\"startlinecolor\":\"#2a3f5f\"},\"baxis\":{\"endlinecolor\":\"#2a3f5f\",\"gridcolor\":\"white\",\"linecolor\":\"white\",\"minorgridcolor\":\"white\",\"startlinecolor\":\"#2a3f5f\"},\"type\":\"carpet\"}],\"table\":[{\"cells\":{\"fill\":{\"color\":\"#EBF0F8\"},\"line\":{\"color\":\"white\"}},\"header\":{\"fill\":{\"color\":\"#C8D4E3\"},\"line\":{\"color\":\"white\"}},\"type\":\"table\"}],\"barpolar\":[{\"marker\":{\"line\":{\"color\":\"#E5ECF6\",\"width\":0.5},\"pattern\":{\"fillmode\":\"overlay\",\"size\":10,\"solidity\":0.2}},\"type\":\"barpolar\"}],\"pie\":[{\"automargin\":true,\"type\":\"pie\"}]},\"layout\":{\"autotypenumbers\":\"strict\",\"colorway\":[\"#636efa\",\"#EF553B\",\"#00cc96\",\"#ab63fa\",\"#FFA15A\",\"#19d3f3\",\"#FF6692\",\"#B6E880\",\"#FF97FF\",\"#FECB52\"],\"font\":{\"color\":\"#2a3f5f\"},\"hovermode\":\"closest\",\"hoverlabel\":{\"align\":\"left\"},\"paper_bgcolor\":\"white\",\"plot_bgcolor\":\"#E5ECF6\",\"polar\":{\"bgcolor\":\"#E5ECF6\",\"angularaxis\":{\"gridcolor\":\"white\",\"linecolor\":\"white\",\"ticks\":\"\"},\"radialaxis\":{\"gridcolor\":\"white\",\"linecolor\":\"white\",\"ticks\":\"\"}},\"ternary\":{\"bgcolor\":\"#E5ECF6\",\"aaxis\":{\"gridcolor\":\"white\",\"linecolor\":\"white\",\"ticks\":\"\"},\"baxis\":{\"gridcolor\":\"white\",\"linecolor\":\"white\",\"ticks\":\"\"},\"caxis\":{\"gridcolor\":\"white\",\"linecolor\":\"white\",\"ticks\":\"\"}},\"coloraxis\":{\"colorbar\":{\"outlinewidth\":0,\"ticks\":\"\"}},\"colorscale\":{\"sequential\":[[0.0,\"#0d0887\"],[0.1111111111111111,\"#46039f\"],[0.2222222222222222,\"#7201a8\"],[0.3333333333333333,\"#9c179e\"],[0.4444444444444444,\"#bd3786\"],[0.5555555555555556,\"#d8576b\"],[0.6666666666666666,\"#ed7953\"],[0.7777777777777778,\"#fb9f3a\"],[0.8888888888888888,\"#fdca26\"],[1.0,\"#f0f921\"]],\"sequentialminus\":[[0.0,\"#0d0887\"],[0.1111111111111111,\"#46039f\"],[0.2222222222222222,\"#7201a8\"],[0.3333333333333333,\"#9c179e\"],[0.4444444444444444,\"#bd3786\"],[0.5555555555555556,\"#d8576b\"],[0.6666666666666666,\"#ed7953\"],[0.7777777777777778,\"#fb9f3a\"],[0.8888888888888888,\"#fdca26\"],[1.0,\"#f0f921\"]],\"diverging\":[[0,\"#8e0152\"],[0.1,\"#c51b7d\"],[0.2,\"#de77ae\"],[0.3,\"#f1b6da\"],[0.4,\"#fde0ef\"],[0.5,\"#f7f7f7\"],[0.6,\"#e6f5d0\"],[0.7,\"#b8e186\"],[0.8,\"#7fbc41\"],[0.9,\"#4d9221\"],[1,\"#276419\"]]},\"xaxis\":{\"gridcolor\":\"white\",\"linecolor\":\"white\",\"ticks\":\"\",\"title\":{\"standoff\":15},\"zerolinecolor\":\"white\",\"automargin\":true,\"zerolinewidth\":2},\"yaxis\":{\"gridcolor\":\"white\",\"linecolor\":\"white\",\"ticks\":\"\",\"title\":{\"standoff\":15},\"zerolinecolor\":\"white\",\"automargin\":true,\"zerolinewidth\":2},\"scene\":{\"xaxis\":{\"backgroundcolor\":\"#E5ECF6\",\"gridcolor\":\"white\",\"linecolor\":\"white\",\"showbackground\":true,\"ticks\":\"\",\"zerolinecolor\":\"white\",\"gridwidth\":2},\"yaxis\":{\"backgroundcolor\":\"#E5ECF6\",\"gridcolor\":\"white\",\"linecolor\":\"white\",\"showbackground\":true,\"ticks\":\"\",\"zerolinecolor\":\"white\",\"gridwidth\":2},\"zaxis\":{\"backgroundcolor\":\"#E5ECF6\",\"gridcolor\":\"white\",\"linecolor\":\"white\",\"showbackground\":true,\"ticks\":\"\",\"zerolinecolor\":\"white\",\"gridwidth\":2}},\"shapedefaults\":{\"line\":{\"color\":\"#2a3f5f\"}},\"annotationdefaults\":{\"arrowcolor\":\"#2a3f5f\",\"arrowhead\":0,\"arrowwidth\":1},\"geo\":{\"bgcolor\":\"white\",\"landcolor\":\"#E5ECF6\",\"subunitcolor\":\"white\",\"showland\":true,\"showlakes\":true,\"lakecolor\":\"white\"},\"title\":{\"x\":0.05},\"mapbox\":{\"style\":\"light\"}}},\"xaxis\":{\"anchor\":\"y\",\"domain\":[0.0,1.0],\"title\":{\"text\":\"Day of month\"}},\"yaxis\":{\"anchor\":\"x\",\"domain\":[0.0,1.0],\"title\":{\"text\":\"Temperature\"}},\"legend\":{\"title\":{\"text\":\"Month\"},\"tracegroupgap\":0},\"title\":{\"text\":\"Average Daily Temperature in Hawaii\"}},                        {\"responsive\": true}                    ).then(function(){\n",
       "                            \n",
       "var gd = document.getElementById('8db7d470-cdac-46de-b767-f68e990ba9b5');\n",
       "var x = new MutationObserver(function (mutations, observer) {{\n",
       "        var display = window.getComputedStyle(gd).display;\n",
       "        if (!display || display === 'none') {{\n",
       "            console.log([gd, 'removed!']);\n",
       "            Plotly.purge(gd);\n",
       "            observer.disconnect();\n",
       "        }}\n",
       "}});\n",
       "\n",
       "// Listen for the removal of the full notebook cells\n",
       "var notebookContainer = gd.closest('#notebook-container');\n",
       "if (notebookContainer) {{\n",
       "    x.observe(notebookContainer, {childList: true});\n",
       "}}\n",
       "\n",
       "// Listen for the clearing of the current output cell\n",
       "var outputEl = gd.closest('.output');\n",
       "if (outputEl) {{\n",
       "    x.observe(outputEl, {childList: true});\n",
       "}}\n",
       "\n",
       "                        })                };                });            </script>        </div>"
      ]
     },
     "metadata": {},
     "output_type": "display_data"
    }
   ],
   "source": [
    "fig = px.line(\n",
    "    data_frame=mean_jun_dec,\n",
    "    x=\"day\",\n",
    "    y=\"tobs\",\n",
    "    title=\"Average Daily Temperature in Hawaii\",\n",
    "    color=\"month\",\n",
    "    markers=True,\n",
    "    labels={\"day\": \"Day of month\", \"month\": \"Month\", \"tobs\": \"Temperature\"},\n",
    ")\n",
    "fig.show()"
   ]
  },
  {
   "cell_type": "code",
   "execution_count": 27,
   "id": "721a3940-db27-4674-976a-00e8a3364c24",
   "metadata": {},
   "outputs": [
    {
     "data": {
      "application/vnd.plotly.v1+json": {
       "config": {
        "plotlyServerURL": "https://plot.ly"
       },
       "data": [
        {
         "hovertemplate": "Month=Jun<br>Day of month=%{x}<br>Precipitation=%{y}<extra></extra>",
         "legendgroup": "Jun",
         "line": {
          "color": "#636efa",
          "dash": "solid"
         },
         "marker": {
          "symbol": "circle"
         },
         "mode": "markers+lines",
         "name": "Jun",
         "orientation": "v",
         "showlegend": true,
         "type": "scatter",
         "x": [
          1,
          2,
          3,
          4,
          5,
          6,
          7,
          8,
          9,
          10,
          11,
          12,
          13,
          14,
          15,
          16,
          17,
          18,
          19,
          20,
          21,
          22,
          23,
          24,
          25,
          26,
          27,
          28,
          29,
          30
         ],
         "xaxis": "x",
         "y": [
          0.07666666666666667,
          0.06916666666666667,
          0.20692307692307693,
          0.286,
          0.31884615384615383,
          0.02692307692307692,
          0.0288,
          0.01875,
          0.02,
          0.05068965517241379,
          0.04,
          0.044399999999999995,
          0.035555555555555556,
          0.06346153846153846,
          0.0392,
          0.031200000000000002,
          0.07965517241379311,
          0.0703448275862069,
          0.03689655172413793,
          0.07535714285714286,
          0.06222222222222222,
          0.07961538461538462,
          0.0636,
          0.08,
          0.1168,
          0.11227272727272729,
          0.04083333333333334,
          0.034166666666666665,
          0.048749999999999995,
          0.06280000000000001
         ],
         "yaxis": "y"
        },
        {
         "hovertemplate": "Month=Dec<br>Day of month=%{x}<br>Precipitation=%{y}<extra></extra>",
         "legendgroup": "Dec",
         "line": {
          "color": "#EF553B",
          "dash": "solid"
         },
         "marker": {
          "symbol": "circle"
         },
         "mode": "markers+lines",
         "name": "Dec",
         "orientation": "v",
         "showlegend": true,
         "type": "scatter",
         "x": [
          1,
          2,
          3,
          4,
          5,
          6,
          7,
          8,
          9,
          10,
          11,
          12,
          13,
          14,
          15,
          16,
          17,
          18,
          19,
          20,
          21,
          22,
          23,
          24,
          25,
          26,
          27,
          28,
          29,
          30,
          31
         ],
         "xaxis": "x",
         "y": [
          0.11043478260869566,
          0.21434782608695652,
          0.13875,
          0.15333333333333335,
          0.07391304347826087,
          0.0491304347826087,
          0.018095238095238095,
          0.04541666666666667,
          0.13416666666666666,
          0.4923076923076923,
          0.19833333333333333,
          0.10565217391304349,
          0.28884615384615386,
          0.1368,
          0.03565217391304348,
          0.12636363636363637,
          0.03363636363636364,
          0.08318181818181819,
          0.6068181818181818,
          0.686,
          0.1368421052631579,
          0.0675,
          0.1655,
          0.09368421052631579,
          0.28846153846153844,
          0.15200000000000002,
          0.081,
          0.15842105263157896,
          0.056315789473684215,
          0.06599999999999999,
          0.1336842105263158
         ],
         "yaxis": "y"
        }
       ],
       "layout": {
        "autosize": true,
        "legend": {
         "title": {
          "text": "Month"
         },
         "tracegroupgap": 0
        },
        "template": {
         "data": {
          "bar": [
           {
            "error_x": {
             "color": "#2a3f5f"
            },
            "error_y": {
             "color": "#2a3f5f"
            },
            "marker": {
             "line": {
              "color": "#E5ECF6",
              "width": 0.5
             },
             "pattern": {
              "fillmode": "overlay",
              "size": 10,
              "solidity": 0.2
             }
            },
            "type": "bar"
           }
          ],
          "barpolar": [
           {
            "marker": {
             "line": {
              "color": "#E5ECF6",
              "width": 0.5
             },
             "pattern": {
              "fillmode": "overlay",
              "size": 10,
              "solidity": 0.2
             }
            },
            "type": "barpolar"
           }
          ],
          "carpet": [
           {
            "aaxis": {
             "endlinecolor": "#2a3f5f",
             "gridcolor": "white",
             "linecolor": "white",
             "minorgridcolor": "white",
             "startlinecolor": "#2a3f5f"
            },
            "baxis": {
             "endlinecolor": "#2a3f5f",
             "gridcolor": "white",
             "linecolor": "white",
             "minorgridcolor": "white",
             "startlinecolor": "#2a3f5f"
            },
            "type": "carpet"
           }
          ],
          "choropleth": [
           {
            "colorbar": {
             "outlinewidth": 0,
             "ticks": ""
            },
            "type": "choropleth"
           }
          ],
          "contour": [
           {
            "colorbar": {
             "outlinewidth": 0,
             "ticks": ""
            },
            "colorscale": [
             [
              0,
              "#0d0887"
             ],
             [
              0.1111111111111111,
              "#46039f"
             ],
             [
              0.2222222222222222,
              "#7201a8"
             ],
             [
              0.3333333333333333,
              "#9c179e"
             ],
             [
              0.4444444444444444,
              "#bd3786"
             ],
             [
              0.5555555555555556,
              "#d8576b"
             ],
             [
              0.6666666666666666,
              "#ed7953"
             ],
             [
              0.7777777777777778,
              "#fb9f3a"
             ],
             [
              0.8888888888888888,
              "#fdca26"
             ],
             [
              1,
              "#f0f921"
             ]
            ],
            "type": "contour"
           }
          ],
          "contourcarpet": [
           {
            "colorbar": {
             "outlinewidth": 0,
             "ticks": ""
            },
            "type": "contourcarpet"
           }
          ],
          "heatmap": [
           {
            "colorbar": {
             "outlinewidth": 0,
             "ticks": ""
            },
            "colorscale": [
             [
              0,
              "#0d0887"
             ],
             [
              0.1111111111111111,
              "#46039f"
             ],
             [
              0.2222222222222222,
              "#7201a8"
             ],
             [
              0.3333333333333333,
              "#9c179e"
             ],
             [
              0.4444444444444444,
              "#bd3786"
             ],
             [
              0.5555555555555556,
              "#d8576b"
             ],
             [
              0.6666666666666666,
              "#ed7953"
             ],
             [
              0.7777777777777778,
              "#fb9f3a"
             ],
             [
              0.8888888888888888,
              "#fdca26"
             ],
             [
              1,
              "#f0f921"
             ]
            ],
            "type": "heatmap"
           }
          ],
          "heatmapgl": [
           {
            "colorbar": {
             "outlinewidth": 0,
             "ticks": ""
            },
            "colorscale": [
             [
              0,
              "#0d0887"
             ],
             [
              0.1111111111111111,
              "#46039f"
             ],
             [
              0.2222222222222222,
              "#7201a8"
             ],
             [
              0.3333333333333333,
              "#9c179e"
             ],
             [
              0.4444444444444444,
              "#bd3786"
             ],
             [
              0.5555555555555556,
              "#d8576b"
             ],
             [
              0.6666666666666666,
              "#ed7953"
             ],
             [
              0.7777777777777778,
              "#fb9f3a"
             ],
             [
              0.8888888888888888,
              "#fdca26"
             ],
             [
              1,
              "#f0f921"
             ]
            ],
            "type": "heatmapgl"
           }
          ],
          "histogram": [
           {
            "marker": {
             "pattern": {
              "fillmode": "overlay",
              "size": 10,
              "solidity": 0.2
             }
            },
            "type": "histogram"
           }
          ],
          "histogram2d": [
           {
            "colorbar": {
             "outlinewidth": 0,
             "ticks": ""
            },
            "colorscale": [
             [
              0,
              "#0d0887"
             ],
             [
              0.1111111111111111,
              "#46039f"
             ],
             [
              0.2222222222222222,
              "#7201a8"
             ],
             [
              0.3333333333333333,
              "#9c179e"
             ],
             [
              0.4444444444444444,
              "#bd3786"
             ],
             [
              0.5555555555555556,
              "#d8576b"
             ],
             [
              0.6666666666666666,
              "#ed7953"
             ],
             [
              0.7777777777777778,
              "#fb9f3a"
             ],
             [
              0.8888888888888888,
              "#fdca26"
             ],
             [
              1,
              "#f0f921"
             ]
            ],
            "type": "histogram2d"
           }
          ],
          "histogram2dcontour": [
           {
            "colorbar": {
             "outlinewidth": 0,
             "ticks": ""
            },
            "colorscale": [
             [
              0,
              "#0d0887"
             ],
             [
              0.1111111111111111,
              "#46039f"
             ],
             [
              0.2222222222222222,
              "#7201a8"
             ],
             [
              0.3333333333333333,
              "#9c179e"
             ],
             [
              0.4444444444444444,
              "#bd3786"
             ],
             [
              0.5555555555555556,
              "#d8576b"
             ],
             [
              0.6666666666666666,
              "#ed7953"
             ],
             [
              0.7777777777777778,
              "#fb9f3a"
             ],
             [
              0.8888888888888888,
              "#fdca26"
             ],
             [
              1,
              "#f0f921"
             ]
            ],
            "type": "histogram2dcontour"
           }
          ],
          "mesh3d": [
           {
            "colorbar": {
             "outlinewidth": 0,
             "ticks": ""
            },
            "type": "mesh3d"
           }
          ],
          "parcoords": [
           {
            "line": {
             "colorbar": {
              "outlinewidth": 0,
              "ticks": ""
             }
            },
            "type": "parcoords"
           }
          ],
          "pie": [
           {
            "automargin": true,
            "type": "pie"
           }
          ],
          "scatter": [
           {
            "fillpattern": {
             "fillmode": "overlay",
             "size": 10,
             "solidity": 0.2
            },
            "type": "scatter"
           }
          ],
          "scatter3d": [
           {
            "line": {
             "colorbar": {
              "outlinewidth": 0,
              "ticks": ""
             }
            },
            "marker": {
             "colorbar": {
              "outlinewidth": 0,
              "ticks": ""
             }
            },
            "type": "scatter3d"
           }
          ],
          "scattercarpet": [
           {
            "marker": {
             "colorbar": {
              "outlinewidth": 0,
              "ticks": ""
             }
            },
            "type": "scattercarpet"
           }
          ],
          "scattergeo": [
           {
            "marker": {
             "colorbar": {
              "outlinewidth": 0,
              "ticks": ""
             }
            },
            "type": "scattergeo"
           }
          ],
          "scattergl": [
           {
            "marker": {
             "colorbar": {
              "outlinewidth": 0,
              "ticks": ""
             }
            },
            "type": "scattergl"
           }
          ],
          "scattermapbox": [
           {
            "marker": {
             "colorbar": {
              "outlinewidth": 0,
              "ticks": ""
             }
            },
            "type": "scattermapbox"
           }
          ],
          "scatterpolar": [
           {
            "marker": {
             "colorbar": {
              "outlinewidth": 0,
              "ticks": ""
             }
            },
            "type": "scatterpolar"
           }
          ],
          "scatterpolargl": [
           {
            "marker": {
             "colorbar": {
              "outlinewidth": 0,
              "ticks": ""
             }
            },
            "type": "scatterpolargl"
           }
          ],
          "scatterternary": [
           {
            "marker": {
             "colorbar": {
              "outlinewidth": 0,
              "ticks": ""
             }
            },
            "type": "scatterternary"
           }
          ],
          "surface": [
           {
            "colorbar": {
             "outlinewidth": 0,
             "ticks": ""
            },
            "colorscale": [
             [
              0,
              "#0d0887"
             ],
             [
              0.1111111111111111,
              "#46039f"
             ],
             [
              0.2222222222222222,
              "#7201a8"
             ],
             [
              0.3333333333333333,
              "#9c179e"
             ],
             [
              0.4444444444444444,
              "#bd3786"
             ],
             [
              0.5555555555555556,
              "#d8576b"
             ],
             [
              0.6666666666666666,
              "#ed7953"
             ],
             [
              0.7777777777777778,
              "#fb9f3a"
             ],
             [
              0.8888888888888888,
              "#fdca26"
             ],
             [
              1,
              "#f0f921"
             ]
            ],
            "type": "surface"
           }
          ],
          "table": [
           {
            "cells": {
             "fill": {
              "color": "#EBF0F8"
             },
             "line": {
              "color": "white"
             }
            },
            "header": {
             "fill": {
              "color": "#C8D4E3"
             },
             "line": {
              "color": "white"
             }
            },
            "type": "table"
           }
          ]
         },
         "layout": {
          "annotationdefaults": {
           "arrowcolor": "#2a3f5f",
           "arrowhead": 0,
           "arrowwidth": 1
          },
          "autotypenumbers": "strict",
          "coloraxis": {
           "colorbar": {
            "outlinewidth": 0,
            "ticks": ""
           }
          },
          "colorscale": {
           "diverging": [
            [
             0,
             "#8e0152"
            ],
            [
             0.1,
             "#c51b7d"
            ],
            [
             0.2,
             "#de77ae"
            ],
            [
             0.3,
             "#f1b6da"
            ],
            [
             0.4,
             "#fde0ef"
            ],
            [
             0.5,
             "#f7f7f7"
            ],
            [
             0.6,
             "#e6f5d0"
            ],
            [
             0.7,
             "#b8e186"
            ],
            [
             0.8,
             "#7fbc41"
            ],
            [
             0.9,
             "#4d9221"
            ],
            [
             1,
             "#276419"
            ]
           ],
           "sequential": [
            [
             0,
             "#0d0887"
            ],
            [
             0.1111111111111111,
             "#46039f"
            ],
            [
             0.2222222222222222,
             "#7201a8"
            ],
            [
             0.3333333333333333,
             "#9c179e"
            ],
            [
             0.4444444444444444,
             "#bd3786"
            ],
            [
             0.5555555555555556,
             "#d8576b"
            ],
            [
             0.6666666666666666,
             "#ed7953"
            ],
            [
             0.7777777777777778,
             "#fb9f3a"
            ],
            [
             0.8888888888888888,
             "#fdca26"
            ],
            [
             1,
             "#f0f921"
            ]
           ],
           "sequentialminus": [
            [
             0,
             "#0d0887"
            ],
            [
             0.1111111111111111,
             "#46039f"
            ],
            [
             0.2222222222222222,
             "#7201a8"
            ],
            [
             0.3333333333333333,
             "#9c179e"
            ],
            [
             0.4444444444444444,
             "#bd3786"
            ],
            [
             0.5555555555555556,
             "#d8576b"
            ],
            [
             0.6666666666666666,
             "#ed7953"
            ],
            [
             0.7777777777777778,
             "#fb9f3a"
            ],
            [
             0.8888888888888888,
             "#fdca26"
            ],
            [
             1,
             "#f0f921"
            ]
           ]
          },
          "colorway": [
           "#636efa",
           "#EF553B",
           "#00cc96",
           "#ab63fa",
           "#FFA15A",
           "#19d3f3",
           "#FF6692",
           "#B6E880",
           "#FF97FF",
           "#FECB52"
          ],
          "font": {
           "color": "#2a3f5f"
          },
          "geo": {
           "bgcolor": "white",
           "lakecolor": "white",
           "landcolor": "#E5ECF6",
           "showlakes": true,
           "showland": true,
           "subunitcolor": "white"
          },
          "hoverlabel": {
           "align": "left"
          },
          "hovermode": "closest",
          "mapbox": {
           "style": "light"
          },
          "paper_bgcolor": "white",
          "plot_bgcolor": "#E5ECF6",
          "polar": {
           "angularaxis": {
            "gridcolor": "white",
            "linecolor": "white",
            "ticks": ""
           },
           "bgcolor": "#E5ECF6",
           "radialaxis": {
            "gridcolor": "white",
            "linecolor": "white",
            "ticks": ""
           }
          },
          "scene": {
           "xaxis": {
            "backgroundcolor": "#E5ECF6",
            "gridcolor": "white",
            "gridwidth": 2,
            "linecolor": "white",
            "showbackground": true,
            "ticks": "",
            "zerolinecolor": "white"
           },
           "yaxis": {
            "backgroundcolor": "#E5ECF6",
            "gridcolor": "white",
            "gridwidth": 2,
            "linecolor": "white",
            "showbackground": true,
            "ticks": "",
            "zerolinecolor": "white"
           },
           "zaxis": {
            "backgroundcolor": "#E5ECF6",
            "gridcolor": "white",
            "gridwidth": 2,
            "linecolor": "white",
            "showbackground": true,
            "ticks": "",
            "zerolinecolor": "white"
           }
          },
          "shapedefaults": {
           "line": {
            "color": "#2a3f5f"
           }
          },
          "ternary": {
           "aaxis": {
            "gridcolor": "white",
            "linecolor": "white",
            "ticks": ""
           },
           "baxis": {
            "gridcolor": "white",
            "linecolor": "white",
            "ticks": ""
           },
           "bgcolor": "#E5ECF6",
           "caxis": {
            "gridcolor": "white",
            "linecolor": "white",
            "ticks": ""
           }
          },
          "title": {
           "x": 0.05
          },
          "xaxis": {
           "automargin": true,
           "gridcolor": "white",
           "linecolor": "white",
           "ticks": "",
           "title": {
            "standoff": 15
           },
           "zerolinecolor": "white",
           "zerolinewidth": 2
          },
          "yaxis": {
           "automargin": true,
           "gridcolor": "white",
           "linecolor": "white",
           "ticks": "",
           "title": {
            "standoff": 15
           },
           "zerolinecolor": "white",
           "zerolinewidth": 2
          }
         }
        },
        "title": {
         "text": "Average Daily Precipitation in Hawaii"
        },
        "xaxis": {
         "anchor": "y",
         "autorange": true,
         "domain": [
          0,
          1
         ],
         "range": [
          -0.9514695830485305,
          32.95146958304853
         ],
         "title": {
          "text": "Day of month"
         },
         "type": "linear"
        },
        "yaxis": {
         "anchor": "x",
         "autorange": true,
         "domain": [
          0,
          1
         ],
         "range": [
          -0.03702311604253353,
          0.7411183541377717
         ],
         "title": {
          "text": "Precipitation"
         },
         "type": "linear"
        }
       }
      },
      "image/png": "[encoded data removed]",
      "text/html": [
       "<div>                            <div id=\"004bc46d-5c8f-4cd1-9a53-ccd91fa8d081\" class=\"plotly-graph-div\" style=\"height:525px; width:100%;\"></div>            <script type=\"text/javascript\">                require([\"plotly\"], function(Plotly) {                    window.PLOTLYENV=window.PLOTLYENV || {};                                    if (document.getElementById(\"004bc46d-5c8f-4cd1-9a53-ccd91fa8d081\")) {                    Plotly.newPlot(                        \"004bc46d-5c8f-4cd1-9a53-ccd91fa8d081\",                        [{\"hovertemplate\":\"Month=Jun<br>Day of month=%{x}<br>Precipitation=%{y}<extra></extra>\",\"legendgroup\":\"Jun\",\"line\":{\"color\":\"#636efa\",\"dash\":\"solid\"},\"marker\":{\"symbol\":\"circle\"},\"mode\":\"markers+lines\",\"name\":\"Jun\",\"orientation\":\"v\",\"showlegend\":true,\"x\":[1,2,3,4,5,6,7,8,9,10,11,12,13,14,15,16,17,18,19,20,21,22,23,24,25,26,27,28,29,30],\"xaxis\":\"x\",\"y\":[0.07666666666666667,0.06916666666666667,0.20692307692307693,0.286,0.31884615384615383,0.02692307692307692,0.0288,0.01875,0.02,0.05068965517241379,0.04,0.044399999999999995,0.035555555555555556,0.06346153846153846,0.0392,0.031200000000000002,0.07965517241379311,0.0703448275862069,0.03689655172413793,0.07535714285714286,0.06222222222222222,0.07961538461538462,0.0636,0.08,0.1168,0.11227272727272729,0.04083333333333334,0.034166666666666665,0.048749999999999995,0.06280000000000001],\"yaxis\":\"y\",\"type\":\"scatter\"},{\"hovertemplate\":\"Month=Dec<br>Day of month=%{x}<br>Precipitation=%{y}<extra></extra>\",\"legendgroup\":\"Dec\",\"line\":{\"color\":\"#EF553B\",\"dash\":\"solid\"},\"marker\":{\"symbol\":\"circle\"},\"mode\":\"markers+lines\",\"name\":\"Dec\",\"orientation\":\"v\",\"showlegend\":true,\"x\":[1,2,3,4,5,6,7,8,9,10,11,12,13,14,15,16,17,18,19,20,21,22,23,24,25,26,27,28,29,30,31],\"xaxis\":\"x\",\"y\":[0.11043478260869566,0.21434782608695652,0.13875,0.15333333333333335,0.07391304347826087,0.0491304347826087,0.018095238095238095,0.04541666666666667,0.13416666666666666,0.4923076923076923,0.19833333333333333,0.10565217391304349,0.28884615384615386,0.1368,0.03565217391304348,0.12636363636363637,0.03363636363636364,0.08318181818181819,0.6068181818181818,0.686,0.1368421052631579,0.0675,0.1655,0.09368421052631579,0.28846153846153844,0.15200000000000002,0.081,0.15842105263157896,0.056315789473684215,0.06599999999999999,0.1336842105263158],\"yaxis\":\"y\",\"type\":\"scatter\"}],                        {\"template\":{\"data\":{\"histogram2dcontour\":[{\"type\":\"histogram2dcontour\",\"colorbar\":{\"outlinewidth\":0,\"ticks\":\"\"},\"colorscale\":[[0.0,\"#0d0887\"],[0.1111111111111111,\"#46039f\"],[0.2222222222222222,\"#7201a8\"],[0.3333333333333333,\"#9c179e\"],[0.4444444444444444,\"#bd3786\"],[0.5555555555555556,\"#d8576b\"],[0.6666666666666666,\"#ed7953\"],[0.7777777777777778,\"#fb9f3a\"],[0.8888888888888888,\"#fdca26\"],[1.0,\"#f0f921\"]]}],\"choropleth\":[{\"type\":\"choropleth\",\"colorbar\":{\"outlinewidth\":0,\"ticks\":\"\"}}],\"histogram2d\":[{\"type\":\"histogram2d\",\"colorbar\":{\"outlinewidth\":0,\"ticks\":\"\"},\"colorscale\":[[0.0,\"#0d0887\"],[0.1111111111111111,\"#46039f\"],[0.2222222222222222,\"#7201a8\"],[0.3333333333333333,\"#9c179e\"],[0.4444444444444444,\"#bd3786\"],[0.5555555555555556,\"#d8576b\"],[0.6666666666666666,\"#ed7953\"],[0.7777777777777778,\"#fb9f3a\"],[0.8888888888888888,\"#fdca26\"],[1.0,\"#f0f921\"]]}],\"heatmap\":[{\"type\":\"heatmap\",\"colorbar\":{\"outlinewidth\":0,\"ticks\":\"\"},\"colorscale\":[[0.0,\"#0d0887\"],[0.1111111111111111,\"#46039f\"],[0.2222222222222222,\"#7201a8\"],[0.3333333333333333,\"#9c179e\"],[0.4444444444444444,\"#bd3786\"],[0.5555555555555556,\"#d8576b\"],[0.6666666666666666,\"#ed7953\"],[0.7777777777777778,\"#fb9f3a\"],[0.8888888888888888,\"#fdca26\"],[1.0,\"#f0f921\"]]}],\"heatmapgl\":[{\"type\":\"heatmapgl\",\"colorbar\":{\"outlinewidth\":0,\"ticks\":\"\"},\"colorscale\":[[0.0,\"#0d0887\"],[0.1111111111111111,\"#46039f\"],[0.2222222222222222,\"#7201a8\"],[0.3333333333333333,\"#9c179e\"],[0.4444444444444444,\"#bd3786\"],[0.5555555555555556,\"#d8576b\"],[0.6666666666666666,\"#ed7953\"],[0.7777777777777778,\"#fb9f3a\"],[0.8888888888888888,\"#fdca26\"],[1.0,\"#f0f921\"]]}],\"contourcarpet\":[{\"type\":\"contourcarpet\",\"colorbar\":{\"outlinewidth\":0,\"ticks\":\"\"}}],\"contour\":[{\"type\":\"contour\",\"colorbar\":{\"outlinewidth\":0,\"ticks\":\"\"},\"colorscale\":[[0.0,\"#0d0887\"],[0.1111111111111111,\"#46039f\"],[0.2222222222222222,\"#7201a8\"],[0.3333333333333333,\"#9c179e\"],[0.4444444444444444,\"#bd3786\"],[0.5555555555555556,\"#d8576b\"],[0.6666666666666666,\"#ed7953\"],[0.7777777777777778,\"#fb9f3a\"],[0.8888888888888888,\"#fdca26\"],[1.0,\"#f0f921\"]]}],\"surface\":[{\"type\":\"surface\",\"colorbar\":{\"outlinewidth\":0,\"ticks\":\"\"},\"colorscale\":[[0.0,\"#0d0887\"],[0.1111111111111111,\"#46039f\"],[0.2222222222222222,\"#7201a8\"],[0.3333333333333333,\"#9c179e\"],[0.4444444444444444,\"#bd3786\"],[0.5555555555555556,\"#d8576b\"],[0.6666666666666666,\"#ed7953\"],[0.7777777777777778,\"#fb9f3a\"],[0.8888888888888888,\"#fdca26\"],[1.0,\"#f0f921\"]]}],\"mesh3d\":[{\"type\":\"mesh3d\",\"colorbar\":{\"outlinewidth\":0,\"ticks\":\"\"}}],\"scatter\":[{\"fillpattern\":{\"fillmode\":\"overlay\",\"size\":10,\"solidity\":0.2},\"type\":\"scatter\"}],\"parcoords\":[{\"type\":\"parcoords\",\"line\":{\"colorbar\":{\"outlinewidth\":0,\"ticks\":\"\"}}}],\"scatterpolargl\":[{\"type\":\"scatterpolargl\",\"marker\":{\"colorbar\":{\"outlinewidth\":0,\"ticks\":\"\"}}}],\"bar\":[{\"error_x\":{\"color\":\"#2a3f5f\"},\"error_y\":{\"color\":\"#2a3f5f\"},\"marker\":{\"line\":{\"color\":\"#E5ECF6\",\"width\":0.5},\"pattern\":{\"fillmode\":\"overlay\",\"size\":10,\"solidity\":0.2}},\"type\":\"bar\"}],\"scattergeo\":[{\"type\":\"scattergeo\",\"marker\":{\"colorbar\":{\"outlinewidth\":0,\"ticks\":\"\"}}}],\"scatterpolar\":[{\"type\":\"scatterpolar\",\"marker\":{\"colorbar\":{\"outlinewidth\":0,\"ticks\":\"\"}}}],\"histogram\":[{\"marker\":{\"pattern\":{\"fillmode\":\"overlay\",\"size\":10,\"solidity\":0.2}},\"type\":\"histogram\"}],\"scattergl\":[{\"type\":\"scattergl\",\"marker\":{\"colorbar\":{\"outlinewidth\":0,\"ticks\":\"\"}}}],\"scatter3d\":[{\"type\":\"scatter3d\",\"line\":{\"colorbar\":{\"outlinewidth\":0,\"ticks\":\"\"}},\"marker\":{\"colorbar\":{\"outlinewidth\":0,\"ticks\":\"\"}}}],\"scattermapbox\":[{\"type\":\"scattermapbox\",\"marker\":{\"colorbar\":{\"outlinewidth\":0,\"ticks\":\"\"}}}],\"scatterternary\":[{\"type\":\"scatterternary\",\"marker\":{\"colorbar\":{\"outlinewidth\":0,\"ticks\":\"\"}}}],\"scattercarpet\":[{\"type\":\"scattercarpet\",\"marker\":{\"colorbar\":{\"outlinewidth\":0,\"ticks\":\"\"}}}],\"carpet\":[{\"aaxis\":{\"endlinecolor\":\"#2a3f5f\",\"gridcolor\":\"white\",\"linecolor\":\"white\",\"minorgridcolor\":\"white\",\"startlinecolor\":\"#2a3f5f\"},\"baxis\":{\"endlinecolor\":\"#2a3f5f\",\"gridcolor\":\"white\",\"linecolor\":\"white\",\"minorgridcolor\":\"white\",\"startlinecolor\":\"#2a3f5f\"},\"type\":\"carpet\"}],\"table\":[{\"cells\":{\"fill\":{\"color\":\"#EBF0F8\"},\"line\":{\"color\":\"white\"}},\"header\":{\"fill\":{\"color\":\"#C8D4E3\"},\"line\":{\"color\":\"white\"}},\"type\":\"table\"}],\"barpolar\":[{\"marker\":{\"line\":{\"color\":\"#E5ECF6\",\"width\":0.5},\"pattern\":{\"fillmode\":\"overlay\",\"size\":10,\"solidity\":0.2}},\"type\":\"barpolar\"}],\"pie\":[{\"automargin\":true,\"type\":\"pie\"}]},\"layout\":{\"autotypenumbers\":\"strict\",\"colorway\":[\"#636efa\",\"#EF553B\",\"#00cc96\",\"#ab63fa\",\"#FFA15A\",\"#19d3f3\",\"#FF6692\",\"#B6E880\",\"#FF97FF\",\"#FECB52\"],\"font\":{\"color\":\"#2a3f5f\"},\"hovermode\":\"closest\",\"hoverlabel\":{\"align\":\"left\"},\"paper_bgcolor\":\"white\",\"plot_bgcolor\":\"#E5ECF6\",\"polar\":{\"bgcolor\":\"#E5ECF6\",\"angularaxis\":{\"gridcolor\":\"white\",\"linecolor\":\"white\",\"ticks\":\"\"},\"radialaxis\":{\"gridcolor\":\"white\",\"linecolor\":\"white\",\"ticks\":\"\"}},\"ternary\":{\"bgcolor\":\"#E5ECF6\",\"aaxis\":{\"gridcolor\":\"white\",\"linecolor\":\"white\",\"ticks\":\"\"},\"baxis\":{\"gridcolor\":\"white\",\"linecolor\":\"white\",\"ticks\":\"\"},\"caxis\":{\"gridcolor\":\"white\",\"linecolor\":\"white\",\"ticks\":\"\"}},\"coloraxis\":{\"colorbar\":{\"outlinewidth\":0,\"ticks\":\"\"}},\"colorscale\":{\"sequential\":[[0.0,\"#0d0887\"],[0.1111111111111111,\"#46039f\"],[0.2222222222222222,\"#7201a8\"],[0.3333333333333333,\"#9c179e\"],[0.4444444444444444,\"#bd3786\"],[0.5555555555555556,\"#d8576b\"],[0.6666666666666666,\"#ed7953\"],[0.7777777777777778,\"#fb9f3a\"],[0.8888888888888888,\"#fdca26\"],[1.0,\"#f0f921\"]],\"sequentialminus\":[[0.0,\"#0d0887\"],[0.1111111111111111,\"#46039f\"],[0.2222222222222222,\"#7201a8\"],[0.3333333333333333,\"#9c179e\"],[0.4444444444444444,\"#bd3786\"],[0.5555555555555556,\"#d8576b\"],[0.6666666666666666,\"#ed7953\"],[0.7777777777777778,\"#fb9f3a\"],[0.8888888888888888,\"#fdca26\"],[1.0,\"#f0f921\"]],\"diverging\":[[0,\"#8e0152\"],[0.1,\"#c51b7d\"],[0.2,\"#de77ae\"],[0.3,\"#f1b6da\"],[0.4,\"#fde0ef\"],[0.5,\"#f7f7f7\"],[0.6,\"#e6f5d0\"],[0.7,\"#b8e186\"],[0.8,\"#7fbc41\"],[0.9,\"#4d9221\"],[1,\"#276419\"]]},\"xaxis\":{\"gridcolor\":\"white\",\"linecolor\":\"white\",\"ticks\":\"\",\"title\":{\"standoff\":15},\"zerolinecolor\":\"white\",\"automargin\":true,\"zerolinewidth\":2},\"yaxis\":{\"gridcolor\":\"white\",\"linecolor\":\"white\",\"ticks\":\"\",\"title\":{\"standoff\":15},\"zerolinecolor\":\"white\",\"automargin\":true,\"zerolinewidth\":2},\"scene\":{\"xaxis\":{\"backgroundcolor\":\"#E5ECF6\",\"gridcolor\":\"white\",\"linecolor\":\"white\",\"showbackground\":true,\"ticks\":\"\",\"zerolinecolor\":\"white\",\"gridwidth\":2},\"yaxis\":{\"backgroundcolor\":\"#E5ECF6\",\"gridcolor\":\"white\",\"linecolor\":\"white\",\"showbackground\":true,\"ticks\":\"\",\"zerolinecolor\":\"white\",\"gridwidth\":2},\"zaxis\":{\"backgroundcolor\":\"#E5ECF6\",\"gridcolor\":\"white\",\"linecolor\":\"white\",\"showbackground\":true,\"ticks\":\"\",\"zerolinecolor\":\"white\",\"gridwidth\":2}},\"shapedefaults\":{\"line\":{\"color\":\"#2a3f5f\"}},\"annotationdefaults\":{\"arrowcolor\":\"#2a3f5f\",\"arrowhead\":0,\"arrowwidth\":1},\"geo\":{\"bgcolor\":\"white\",\"landcolor\":\"#E5ECF6\",\"subunitcolor\":\"white\",\"showland\":true,\"showlakes\":true,\"lakecolor\":\"white\"},\"title\":{\"x\":0.05},\"mapbox\":{\"style\":\"light\"}}},\"xaxis\":{\"anchor\":\"y\",\"domain\":[0.0,1.0],\"title\":{\"text\":\"Day of month\"}},\"yaxis\":{\"anchor\":\"x\",\"domain\":[0.0,1.0],\"title\":{\"text\":\"Precipitation\"}},\"legend\":{\"title\":{\"text\":\"Month\"},\"tracegroupgap\":0},\"title\":{\"text\":\"Average Daily Precipitation in Hawaii\"}},                        {\"responsive\": true}                    ).then(function(){\n",
       "                            \n",
       "var gd = document.getElementById('004bc46d-5c8f-4cd1-9a53-ccd91fa8d081');\n",
       "var x = new MutationObserver(function (mutations, observer) {{\n",
       "        var display = window.getComputedStyle(gd).display;\n",
       "        if (!display || display === 'none') {{\n",
       "            console.log([gd, 'removed!']);\n",
       "            Plotly.purge(gd);\n",
       "            observer.disconnect();\n",
       "        }}\n",
       "}});\n",
       "\n",
       "// Listen for the removal of the full notebook cells\n",
       "var notebookContainer = gd.closest('#notebook-container');\n",
       "if (notebookContainer) {{\n",
       "    x.observe(notebookContainer, {childList: true});\n",
       "}}\n",
       "\n",
       "// Listen for the clearing of the current output cell\n",
       "var outputEl = gd.closest('.output');\n",
       "if (outputEl) {{\n",
       "    x.observe(outputEl, {childList: true});\n",
       "}}\n",
       "\n",
       "                        })                };                });            </script>        </div>"
      ]
     },
     "metadata": {},
     "output_type": "display_data"
    }
   ],
   "source": [
    "fig = px.line(\n",
    "    data_frame=mean_jun_dec,\n",
    "    x=\"day\",\n",
    "    y=\"prcp\",\n",
    "    title=\"Average Daily Precipitation in Hawaii\",\n",
    "    color=\"month\",\n",
    "    markers=True,\n",
    "    labels={\"day\": \"Day of month\", \"month\": \"Month\", \"prcp\": \"Precipitation\"},\n",
    ")\n",
    "fig.show()"
   ]
  },
  {
   "cell_type": "code",
   "execution_count": null,
   "id": "b6203ab9-e892-48fe-8de2-2cd10d25dfca",
   "metadata": {},
   "outputs": [],
   "source": []
  }
 ],
 "metadata": {
  "kernelspec": {
   "display_name": "dta",
   "language": "python",
   "name": "dta"
  },
  "language_info": {
   "codemirror_mode": {
    "name": "ipython",
    "version": 3
   },
   "file_extension": ".py",
   "mimetype": "text/x-python",
   "name": "python",
   "nbconvert_exporter": "python",
   "pygments_lexer": "ipython3",
   "version": "3.10.8"
  }
 },
 "nbformat": 4,
 "nbformat_minor": 5
}
