{
 "cells": [
  {
   "cell_type": "code",
   "execution_count": 1,
   "id": "41bd5c4f-c48e-41b7-a00f-2f1cf14b3404",
   "metadata": {
    "tags": []
   },
   "outputs": [],
   "source": [
    "import logging\n",
    "import re\n",
    "from typing import Optional"
   ]
  },
  {
   "cell_type": "code",
   "execution_count": 2,
   "id": "c6514d93-a768-4bfd-8724-bae9bb3be60e",
   "metadata": {
    "tags": []
   },
   "outputs": [],
   "source": [
    "logger = logging.getLogger(__name__)\n",
    "\n",
    "\n",
    "def update_utility_classes(\n",
    "    current_classes: str,\n",
    "    remove_classes: Optional[list[str]] = None,\n",
    "    add_classes: Optional[list[str]] = None,\n",
    "    ignore_prefix_warning: bool = False,\n",
    ") -> str:\n",
    "    \"\"\"Update a utility class string by removing and/or adding classes.\n",
    "\n",
    "    Removes/adds utility classes from/to the `current_classes` string. At least one of\n",
    "    the arguments `remove_classes` or `add_classes` must be provided. These arguments\n",
    "    are given in the form of a list of strings representing the classes to be removed or\n",
    "    added.\n",
    "\n",
    "    If an incoming add class has a prefix that matches a class(es) in the\n",
    "    `current_classes` string, a warning will be shown but the add will still be\n",
    "    completed. The warning is there to make it known that the addition of the class\n",
    "    could override these prefix matched existing classes in the `current_classes`\n",
    "    string. The developer should evaluate the add and ensure that this is not the case.\n",
    "    It is possible that there is no overriding behavior even when there are multiple\n",
    "    classes with the same prefix. If this is the case, the warning can be suppressed by\n",
    "    setting the `ignore_prefix_warning` to True.\n",
    "\n",
    "    Parameters\n",
    "    ----------\n",
    "    current_classes : str\n",
    "        Current utility class string.\n",
    "    remove_classes : Optional[list[str]], optional\n",
    "        Classes to be removed, by default None.\n",
    "    add_classes : Optional[list[str]], optional\n",
    "        Classes to be added, by default None.\n",
    "    ignore_prefix_warning : bool, optional\n",
    "        Flag for suppressing the prefix warning, by default False.\n",
    "\n",
    "    Returns\n",
    "    -------\n",
    "    str\n",
    "        Updated utility class string.\n",
    "    \"\"\"\n",
    "    # Check if both optional arguments were not provided.\n",
    "    if remove_classes is None and add_classes is None:\n",
    "        raise RuntimeError(\n",
    "            \"Both arguments `remove_classes` and `add_classes` were not provided. \"\n",
    "            \"Please provide at least one of these arguments.\"\n",
    "        )\n",
    "\n",
    "    current_class_list = current_classes.split()\n",
    "    # Pattern to match the prefix of a utility class.\n",
    "    prefix_pattern = r\"^-?([a-z:]+)\"\n",
    "\n",
    "    # Remove and/or Add Classes --------------------------------------------------------\n",
    "    if remove_classes:\n",
    "        for remove_class in remove_classes:\n",
    "            try:\n",
    "                current_class_list.remove(remove_class)\n",
    "            except ValueError as err:\n",
    "                raise ValueError(\n",
    "                    f\"The string '{remove_class}', from the `remove_classes` argument, \"\n",
    "                    f\"was not found in the `current_classes` string:\\n\"\n",
    "                    f\"'{current_classes}'\"\n",
    "                ) from err\n",
    "\n",
    "    if add_classes:\n",
    "        for add_class in add_classes:\n",
    "            # Check if the class is already in the `current_class_list`.\n",
    "            if add_class in current_class_list:\n",
    "                raise RuntimeError(\n",
    "                    f\"The string '{add_class}', from the `add_classes` argument, is \"\n",
    "                    f\"already found within the `current_classes` string:\\n\"\n",
    "                    f\"'{current_classes}'\"\n",
    "                )\n",
    "\n",
    "            # Capture the prefix of the incoming add class.\n",
    "            try:\n",
    "                prefix = re.search(prefix_pattern, add_class).group(1)\n",
    "            except AttributeError as err:\n",
    "                raise RuntimeError(\n",
    "                    f\"The string '{add_class}', from the `add_classes` argument, is \"\n",
    "                    f\"not a valid utility class.\"\n",
    "                ) from err\n",
    "\n",
    "            # Capture all classes from `current_classes_list` that match the prefix for\n",
    "            # the current add class.\n",
    "            prefix_match_classes = []\n",
    "            for util_class in current_class_list:\n",
    "                prefix_match = re.search(prefix, util_class)\n",
    "                if prefix_match:\n",
    "                    prefix_match_classes.append(util_class)\n",
    "\n",
    "            # Warn that there are matches that could result in classes that get\n",
    "            # overridden by the add. This is a warning and not an error because it is\n",
    "            # possible to have more than one utility class with the same prefix and not\n",
    "            # have any overriding behavior.\n",
    "            if prefix_match_classes:\n",
    "                if not ignore_prefix_warning:\n",
    "                    logger.warning(\n",
    "                        f\"WARNING: Upon adding the string '{add_class}', the following \"\n",
    "                        f\"class(es) with the same prefix '{prefix}' were found within \"\n",
    "                        f\"the `current_classes` string: {prefix_match_classes}\\nIf \"\n",
    "                        f\"this addition does not result in conflicts, this warning can \"\n",
    "                        f\"be suppressed by setting the `ignore_prefix_warning` \"\n",
    "                        f\"argument to True.\\n\"\n",
    "                    )\n",
    "            current_class_list.append(add_class)\n",
    "    return \" \".join(current_class_list)"
   ]
  },
  {
   "cell_type": "markdown",
   "id": "af240d2a-09e0-4227-a58f-66a3e826dcd7",
   "metadata": {},
   "source": [
    "### Tests"
   ]
  },
  {
   "cell_type": "markdown",
   "id": "ff1f899b-d24a-4693-a2cf-eac8a30beed6",
   "metadata": {},
   "source": [
    "#### `current_classes` Test String"
   ]
  },
  {
   "cell_type": "code",
   "execution_count": 3,
   "id": "ab5b2792-8258-4edc-9559-68486e01ed00",
   "metadata": {
    "tags": []
   },
   "outputs": [
    {
     "data": {
      "text/plain": [
       "'px-4 py-2 flex border-4 border-opacity-30 border-black bg-slate-800 hover:bg-slate-700 focus:text-slate-800 hover:sm:text-slate-300'"
      ]
     },
     "execution_count": 3,
     "metadata": {},
     "output_type": "execute_result"
    }
   ],
   "source": [
    "current_classes_example = (\n",
    "    \"px-4 py-2 flex border-4 border-opacity-30 border-black \"\n",
    "    \"bg-slate-800 hover:bg-slate-700 focus:text-slate-800 \"\n",
    "    \"hover:sm:text-slate-300\"\n",
    ")\n",
    "current_classes_example"
   ]
  },
  {
   "cell_type": "markdown",
   "id": "54a93a05-33f1-4dc1-9072-3b69c4e988d1",
   "metadata": {},
   "source": [
    "#### Test Warning/Error Conditions"
   ]
  },
  {
   "cell_type": "code",
   "execution_count": 4,
   "id": "e7d187e1-8a8d-4431-b215-d76b3ade201e",
   "metadata": {
    "tags": []
   },
   "outputs": [
    {
     "ename": "RuntimeError",
     "evalue": "Both arguments `remove_classes` and `add_classes` were not provided. Please provide at least one of these arguments.",
     "output_type": "error",
     "traceback": [
      "\u001b[1;31m-----------------------------------------------------------\u001b[0m",
      "\u001b[1;31mRuntimeError\u001b[0m              Traceback (most recent call last)",
      "Cell \u001b[1;32mIn[4], line 2\u001b[0m\n\u001b[0;32m      1\u001b[0m \u001b[38;5;66;03m# Both `remove_classes` and `add_classes` arguments not provided.\u001b[39;00m\n\u001b[1;32m----> 2\u001b[0m \u001b[43mupdate_utility_classes\u001b[49m\u001b[43m(\u001b[49m\n\u001b[0;32m      3\u001b[0m \u001b[43m    \u001b[49m\u001b[43mcurrent_classes\u001b[49m\u001b[38;5;241;43m=\u001b[39;49m\u001b[43mcurrent_classes_example\u001b[49m\u001b[43m,\u001b[49m\n\u001b[0;32m      4\u001b[0m \u001b[43m)\u001b[49m\n",
      "Cell \u001b[1;32mIn[2], line 44\u001b[0m, in \u001b[0;36mupdate_utility_classes\u001b[1;34m(current_classes, remove_classes, add_classes, ignore_prefix_warning)\u001b[0m\n\u001b[0;32m     42\u001b[0m \u001b[38;5;66;03m# Check if both optional arguments were not provided.\u001b[39;00m\n\u001b[0;32m     43\u001b[0m \u001b[38;5;28;01mif\u001b[39;00m remove_classes \u001b[38;5;129;01mis\u001b[39;00m \u001b[38;5;28;01mNone\u001b[39;00m \u001b[38;5;129;01mand\u001b[39;00m add_classes \u001b[38;5;129;01mis\u001b[39;00m \u001b[38;5;28;01mNone\u001b[39;00m:\n\u001b[1;32m---> 44\u001b[0m     \u001b[38;5;28;01mraise\u001b[39;00m \u001b[38;5;167;01mRuntimeError\u001b[39;00m(\n\u001b[0;32m     45\u001b[0m         \u001b[38;5;124m\"\u001b[39m\u001b[38;5;124mBoth arguments `remove_classes` and `add_classes` were not provided. \u001b[39m\u001b[38;5;124m\"\u001b[39m\n\u001b[0;32m     46\u001b[0m         \u001b[38;5;124m\"\u001b[39m\u001b[38;5;124mPlease provide at least one of these arguments.\u001b[39m\u001b[38;5;124m\"\u001b[39m\n\u001b[0;32m     47\u001b[0m     )\n\u001b[0;32m     49\u001b[0m current_class_list \u001b[38;5;241m=\u001b[39m current_classes\u001b[38;5;241m.\u001b[39msplit()\n\u001b[0;32m     50\u001b[0m \u001b[38;5;66;03m# Pattern to match the prefix of a utility class.\u001b[39;00m\n",
      "\u001b[1;31mRuntimeError\u001b[0m: Both arguments `remove_classes` and `add_classes` were not provided. Please provide at least one of these arguments."
     ]
    }
   ],
   "source": [
    "# Both `remove_classes` and `add_classes` arguments not provided.\n",
    "update_utility_classes(\n",
    "    current_classes=current_classes_example,\n",
    ")"
   ]
  },
  {
   "cell_type": "code",
   "execution_count": 5,
   "id": "f86c59d4-1b30-4951-a791-49cf22b090be",
   "metadata": {
    "tags": []
   },
   "outputs": [
    {
     "ename": "ValueError",
     "evalue": "The string 'pt-8', from the `remove_classes` argument, was not found in the `current_classes` string:\n'px-4 py-2 flex border-4 border-opacity-30 border-black bg-slate-800 hover:bg-slate-700 focus:text-slate-800 hover:sm:text-slate-300'",
     "output_type": "error",
     "traceback": [
      "\u001b[1;31m-----------------------------------------------------------\u001b[0m",
      "\u001b[1;31mValueError\u001b[0m                Traceback (most recent call last)",
      "Cell \u001b[1;32mIn[2], line 57\u001b[0m, in \u001b[0;36mupdate_utility_classes\u001b[1;34m(current_classes, remove_classes, add_classes, ignore_prefix_warning)\u001b[0m\n\u001b[0;32m     56\u001b[0m \u001b[38;5;28;01mtry\u001b[39;00m:\n\u001b[1;32m---> 57\u001b[0m     \u001b[43mcurrent_class_list\u001b[49m\u001b[38;5;241;43m.\u001b[39;49m\u001b[43mremove\u001b[49m\u001b[43m(\u001b[49m\u001b[43mremove_class\u001b[49m\u001b[43m)\u001b[49m\n\u001b[0;32m     58\u001b[0m \u001b[38;5;28;01mexcept\u001b[39;00m \u001b[38;5;167;01mValueError\u001b[39;00m \u001b[38;5;28;01mas\u001b[39;00m err:\n",
      "\u001b[1;31mValueError\u001b[0m: list.remove(x): x not in list",
      "\nThe above exception was the direct cause of the following exception:\n",
      "\u001b[1;31mValueError\u001b[0m                Traceback (most recent call last)",
      "Cell \u001b[1;32mIn[5], line 2\u001b[0m\n\u001b[0;32m      1\u001b[0m \u001b[38;5;66;03m# Try to remove a class that is not in `current_classes`.\u001b[39;00m\n\u001b[1;32m----> 2\u001b[0m \u001b[43mupdate_utility_classes\u001b[49m\u001b[43m(\u001b[49m\n\u001b[0;32m      3\u001b[0m \u001b[43m    \u001b[49m\u001b[43mcurrent_classes\u001b[49m\u001b[38;5;241;43m=\u001b[39;49m\u001b[43mcurrent_classes_example\u001b[49m\u001b[43m,\u001b[49m\n\u001b[0;32m      4\u001b[0m \u001b[43m    \u001b[49m\u001b[43mremove_classes\u001b[49m\u001b[38;5;241;43m=\u001b[39;49m\u001b[43m[\u001b[49m\u001b[38;5;124;43m\"\u001b[39;49m\u001b[38;5;124;43mpt-8\u001b[39;49m\u001b[38;5;124;43m\"\u001b[39;49m\u001b[43m]\u001b[49m\u001b[43m,\u001b[49m\n\u001b[0;32m      5\u001b[0m \u001b[43m)\u001b[49m\n",
      "Cell \u001b[1;32mIn[2], line 59\u001b[0m, in \u001b[0;36mupdate_utility_classes\u001b[1;34m(current_classes, remove_classes, add_classes, ignore_prefix_warning)\u001b[0m\n\u001b[0;32m     57\u001b[0m             current_class_list\u001b[38;5;241m.\u001b[39mremove(remove_class)\n\u001b[0;32m     58\u001b[0m         \u001b[38;5;28;01mexcept\u001b[39;00m \u001b[38;5;167;01mValueError\u001b[39;00m \u001b[38;5;28;01mas\u001b[39;00m err:\n\u001b[1;32m---> 59\u001b[0m             \u001b[38;5;28;01mraise\u001b[39;00m \u001b[38;5;167;01mValueError\u001b[39;00m(\n\u001b[0;32m     60\u001b[0m                 \u001b[38;5;124mf\u001b[39m\u001b[38;5;124m\"\u001b[39m\u001b[38;5;124mThe string \u001b[39m\u001b[38;5;124m'\u001b[39m\u001b[38;5;132;01m{\u001b[39;00mremove_class\u001b[38;5;132;01m}\u001b[39;00m\u001b[38;5;124m'\u001b[39m\u001b[38;5;124m, from the `remove_classes` argument, \u001b[39m\u001b[38;5;124m\"\u001b[39m\n\u001b[0;32m     61\u001b[0m                 \u001b[38;5;124mf\u001b[39m\u001b[38;5;124m\"\u001b[39m\u001b[38;5;124mwas not found in the `current_classes` string:\u001b[39m\u001b[38;5;130;01m\\n\u001b[39;00m\u001b[38;5;124m\"\u001b[39m\n\u001b[0;32m     62\u001b[0m                 \u001b[38;5;124mf\u001b[39m\u001b[38;5;124m\"\u001b[39m\u001b[38;5;124m'\u001b[39m\u001b[38;5;132;01m{\u001b[39;00mcurrent_classes\u001b[38;5;132;01m}\u001b[39;00m\u001b[38;5;124m'\u001b[39m\u001b[38;5;124m\"\u001b[39m\n\u001b[0;32m     63\u001b[0m             ) \u001b[38;5;28;01mfrom\u001b[39;00m \u001b[38;5;21;01merr\u001b[39;00m\n\u001b[0;32m     65\u001b[0m \u001b[38;5;28;01mif\u001b[39;00m add_classes:\n\u001b[0;32m     66\u001b[0m     \u001b[38;5;28;01mfor\u001b[39;00m add_class \u001b[38;5;129;01min\u001b[39;00m add_classes:\n\u001b[0;32m     67\u001b[0m         \u001b[38;5;66;03m# Check if the class is already in the `current_class_list`.\u001b[39;00m\n",
      "\u001b[1;31mValueError\u001b[0m: The string 'pt-8', from the `remove_classes` argument, was not found in the `current_classes` string:\n'px-4 py-2 flex border-4 border-opacity-30 border-black bg-slate-800 hover:bg-slate-700 focus:text-slate-800 hover:sm:text-slate-300'"
     ]
    }
   ],
   "source": [
    "# Try to remove a class that is not in `current_classes`.\n",
    "update_utility_classes(\n",
    "    current_classes=current_classes_example,\n",
    "    remove_classes=[\"pt-8\"],\n",
    ")"
   ]
  },
  {
   "cell_type": "code",
   "execution_count": 6,
   "id": "4bbe8847-0193-4ab0-8d90-62d228ea2f4a",
   "metadata": {},
   "outputs": [
    {
     "ename": "RuntimeError",
     "evalue": "The string 'px-4', from the `add_classes` argument, is already found within the `current_classes` string:\n'px-4 py-2 flex border-4 border-opacity-30 border-black bg-slate-800 hover:bg-slate-700 focus:text-slate-800 hover:sm:text-slate-300'",
     "output_type": "error",
     "traceback": [
      "\u001b[1;31m-----------------------------------------------------------\u001b[0m",
      "\u001b[1;31mRuntimeError\u001b[0m              Traceback (most recent call last)",
      "Cell \u001b[1;32mIn[6], line 2\u001b[0m\n\u001b[0;32m      1\u001b[0m \u001b[38;5;66;03m# Try a duplicate add class.\u001b[39;00m\n\u001b[1;32m----> 2\u001b[0m \u001b[43mupdate_utility_classes\u001b[49m\u001b[43m(\u001b[49m\n\u001b[0;32m      3\u001b[0m \u001b[43m    \u001b[49m\u001b[43mcurrent_classes\u001b[49m\u001b[38;5;241;43m=\u001b[39;49m\u001b[43mcurrent_classes_example\u001b[49m\u001b[43m,\u001b[49m\n\u001b[0;32m      4\u001b[0m \u001b[43m    \u001b[49m\u001b[43madd_classes\u001b[49m\u001b[38;5;241;43m=\u001b[39;49m\u001b[43m[\u001b[49m\u001b[38;5;124;43m\"\u001b[39;49m\u001b[38;5;124;43mpx-4\u001b[39;49m\u001b[38;5;124;43m\"\u001b[39;49m\u001b[43m]\u001b[49m\u001b[43m,\u001b[49m\n\u001b[0;32m      5\u001b[0m \u001b[43m)\u001b[49m\n",
      "Cell \u001b[1;32mIn[2], line 69\u001b[0m, in \u001b[0;36mupdate_utility_classes\u001b[1;34m(current_classes, remove_classes, add_classes, ignore_prefix_warning)\u001b[0m\n\u001b[0;32m     66\u001b[0m \u001b[38;5;28;01mfor\u001b[39;00m add_class \u001b[38;5;129;01min\u001b[39;00m add_classes:\n\u001b[0;32m     67\u001b[0m     \u001b[38;5;66;03m# Check if the class is already in the `current_class_list`.\u001b[39;00m\n\u001b[0;32m     68\u001b[0m     \u001b[38;5;28;01mif\u001b[39;00m add_class \u001b[38;5;129;01min\u001b[39;00m current_class_list:\n\u001b[1;32m---> 69\u001b[0m         \u001b[38;5;28;01mraise\u001b[39;00m \u001b[38;5;167;01mRuntimeError\u001b[39;00m(\n\u001b[0;32m     70\u001b[0m             \u001b[38;5;124mf\u001b[39m\u001b[38;5;124m\"\u001b[39m\u001b[38;5;124mThe string \u001b[39m\u001b[38;5;124m'\u001b[39m\u001b[38;5;132;01m{\u001b[39;00madd_class\u001b[38;5;132;01m}\u001b[39;00m\u001b[38;5;124m'\u001b[39m\u001b[38;5;124m, from the `add_classes` argument, is \u001b[39m\u001b[38;5;124m\"\u001b[39m\n\u001b[0;32m     71\u001b[0m             \u001b[38;5;124mf\u001b[39m\u001b[38;5;124m\"\u001b[39m\u001b[38;5;124malready found within the `current_classes` string:\u001b[39m\u001b[38;5;130;01m\\n\u001b[39;00m\u001b[38;5;124m\"\u001b[39m\n\u001b[0;32m     72\u001b[0m             \u001b[38;5;124mf\u001b[39m\u001b[38;5;124m\"\u001b[39m\u001b[38;5;124m'\u001b[39m\u001b[38;5;132;01m{\u001b[39;00mcurrent_classes\u001b[38;5;132;01m}\u001b[39;00m\u001b[38;5;124m'\u001b[39m\u001b[38;5;124m\"\u001b[39m\n\u001b[0;32m     73\u001b[0m         )\n\u001b[0;32m     75\u001b[0m     \u001b[38;5;66;03m# Capture the prefix of the incoming add class.\u001b[39;00m\n\u001b[0;32m     76\u001b[0m     \u001b[38;5;28;01mtry\u001b[39;00m:\n",
      "\u001b[1;31mRuntimeError\u001b[0m: The string 'px-4', from the `add_classes` argument, is already found within the `current_classes` string:\n'px-4 py-2 flex border-4 border-opacity-30 border-black bg-slate-800 hover:bg-slate-700 focus:text-slate-800 hover:sm:text-slate-300'"
     ]
    }
   ],
   "source": [
    "# Try a duplicate add class.\n",
    "update_utility_classes(\n",
    "    current_classes=current_classes_example,\n",
    "    add_classes=[\"px-4\"],\n",
    ")"
   ]
  },
  {
   "cell_type": "code",
   "execution_count": 7,
   "id": "c85dde32-a6de-4578-8196-a5848b7972be",
   "metadata": {},
   "outputs": [
    {
     "ename": "RuntimeError",
     "evalue": "The string '1', from the `add_classes` argument, is not a valid utility class.",
     "output_type": "error",
     "traceback": [
      "\u001b[1;31m-----------------------------------------------------------\u001b[0m",
      "\u001b[1;31mAttributeError\u001b[0m            Traceback (most recent call last)",
      "Cell \u001b[1;32mIn[2], line 77\u001b[0m, in \u001b[0;36mupdate_utility_classes\u001b[1;34m(current_classes, remove_classes, add_classes, ignore_prefix_warning)\u001b[0m\n\u001b[0;32m     76\u001b[0m \u001b[38;5;28;01mtry\u001b[39;00m:\n\u001b[1;32m---> 77\u001b[0m     prefix \u001b[38;5;241m=\u001b[39m \u001b[43mre\u001b[49m\u001b[38;5;241;43m.\u001b[39;49m\u001b[43msearch\u001b[49m\u001b[43m(\u001b[49m\u001b[43mprefix_pattern\u001b[49m\u001b[43m,\u001b[49m\u001b[43m \u001b[49m\u001b[43madd_class\u001b[49m\u001b[43m)\u001b[49m\u001b[38;5;241;43m.\u001b[39;49m\u001b[43mgroup\u001b[49m(\u001b[38;5;241m1\u001b[39m)\n\u001b[0;32m     78\u001b[0m \u001b[38;5;28;01mexcept\u001b[39;00m \u001b[38;5;167;01mAttributeError\u001b[39;00m \u001b[38;5;28;01mas\u001b[39;00m err:\n",
      "\u001b[1;31mAttributeError\u001b[0m: 'NoneType' object has no attribute 'group'",
      "\nThe above exception was the direct cause of the following exception:\n",
      "\u001b[1;31mRuntimeError\u001b[0m              Traceback (most recent call last)",
      "Cell \u001b[1;32mIn[7], line 2\u001b[0m\n\u001b[0;32m      1\u001b[0m \u001b[38;5;66;03m# Try to add an invalid utility class.\u001b[39;00m\n\u001b[1;32m----> 2\u001b[0m \u001b[43mupdate_utility_classes\u001b[49m\u001b[43m(\u001b[49m\n\u001b[0;32m      3\u001b[0m \u001b[43m    \u001b[49m\u001b[43mcurrent_classes\u001b[49m\u001b[38;5;241;43m=\u001b[39;49m\u001b[43mcurrent_classes_example\u001b[49m\u001b[43m,\u001b[49m\n\u001b[0;32m      4\u001b[0m \u001b[43m    \u001b[49m\u001b[43madd_classes\u001b[49m\u001b[38;5;241;43m=\u001b[39;49m\u001b[43m[\u001b[49m\u001b[38;5;124;43m\"\u001b[39;49m\u001b[38;5;124;43m1\u001b[39;49m\u001b[38;5;124;43m\"\u001b[39;49m\u001b[43m]\u001b[49m\u001b[43m,\u001b[49m\n\u001b[0;32m      5\u001b[0m \u001b[43m)\u001b[49m\n",
      "Cell \u001b[1;32mIn[2], line 79\u001b[0m, in \u001b[0;36mupdate_utility_classes\u001b[1;34m(current_classes, remove_classes, add_classes, ignore_prefix_warning)\u001b[0m\n\u001b[0;32m     77\u001b[0m     prefix \u001b[38;5;241m=\u001b[39m re\u001b[38;5;241m.\u001b[39msearch(prefix_pattern, add_class)\u001b[38;5;241m.\u001b[39mgroup(\u001b[38;5;241m1\u001b[39m)\n\u001b[0;32m     78\u001b[0m \u001b[38;5;28;01mexcept\u001b[39;00m \u001b[38;5;167;01mAttributeError\u001b[39;00m \u001b[38;5;28;01mas\u001b[39;00m err:\n\u001b[1;32m---> 79\u001b[0m     \u001b[38;5;28;01mraise\u001b[39;00m \u001b[38;5;167;01mRuntimeError\u001b[39;00m(\n\u001b[0;32m     80\u001b[0m         \u001b[38;5;124mf\u001b[39m\u001b[38;5;124m\"\u001b[39m\u001b[38;5;124mThe string \u001b[39m\u001b[38;5;124m'\u001b[39m\u001b[38;5;132;01m{\u001b[39;00madd_class\u001b[38;5;132;01m}\u001b[39;00m\u001b[38;5;124m'\u001b[39m\u001b[38;5;124m, from the `add_classes` argument, is \u001b[39m\u001b[38;5;124m\"\u001b[39m\n\u001b[0;32m     81\u001b[0m         \u001b[38;5;124mf\u001b[39m\u001b[38;5;124m\"\u001b[39m\u001b[38;5;124mnot a valid utility class.\u001b[39m\u001b[38;5;124m\"\u001b[39m\n\u001b[0;32m     82\u001b[0m     ) \u001b[38;5;28;01mfrom\u001b[39;00m \u001b[38;5;21;01merr\u001b[39;00m\n\u001b[0;32m     84\u001b[0m \u001b[38;5;66;03m# Capture all classes from `current_classes_list` that match the prefix for\u001b[39;00m\n\u001b[0;32m     85\u001b[0m \u001b[38;5;66;03m# the current add class.\u001b[39;00m\n\u001b[0;32m     86\u001b[0m prefix_match_classes \u001b[38;5;241m=\u001b[39m []\n",
      "\u001b[1;31mRuntimeError\u001b[0m: The string '1', from the `add_classes` argument, is not a valid utility class."
     ]
    }
   ],
   "source": [
    "# Try to add an invalid utility class.\n",
    "update_utility_classes(\n",
    "    current_classes=current_classes_example,\n",
    "    add_classes=[\"1\"],\n",
    ")"
   ]
  },
  {
   "cell_type": "code",
   "execution_count": 8,
   "id": "f236eefb-50a5-48fb-b7c4-394ec4144bcf",
   "metadata": {},
   "outputs": [
    {
     "name": "stderr",
     "output_type": "stream",
     "text": [
      "WARNING: Upon adding the string 'border-gray-700', the following class(es) with the same prefix 'border' were found within the `current_classes` string: ['border-4', 'border-opacity-30', 'border-black']\n",
      "If this addition does not result in conflicts, this warning can be suppressed by setting the `ignore_prefix_warning` argument to True.\n",
      "\n"
     ]
    },
    {
     "data": {
      "text/plain": [
       "'px-4 py-2 flex border-4 border-opacity-30 border-black bg-slate-800 hover:bg-slate-700 focus:text-slate-800 hover:sm:text-slate-300 border-gray-700'"
      ]
     },
     "execution_count": 8,
     "metadata": {},
     "output_type": "execute_result"
    }
   ],
   "source": [
    "# Try a class whose prefix is matched by some of the classes in `current_classes`.\n",
    "update_utility_classes(\n",
    "    current_classes=current_classes_example,\n",
    "    add_classes=[\"border-gray-700\"],\n",
    ")"
   ]
  },
  {
   "cell_type": "code",
   "execution_count": 9,
   "id": "64663b84-4891-4a56-9b4f-00d50182edde",
   "metadata": {},
   "outputs": [
    {
     "name": "stderr",
     "output_type": "stream",
     "text": [
      "WARNING: Upon adding the string 'border-gray-700', the following class(es) with the same prefix 'border' were found within the `current_classes` string: ['border-4', 'border-opacity-30', 'border-black']\n",
      "If this addition does not result in conflicts, this warning can be suppressed by setting the `ignore_prefix_warning` argument to True.\n",
      "\n",
      "WARNING: Upon adding the string 'py-8', the following class(es) with the same prefix 'py' were found within the `current_classes` string: ['py-2']\n",
      "If this addition does not result in conflicts, this warning can be suppressed by setting the `ignore_prefix_warning` argument to True.\n",
      "\n"
     ]
    },
    {
     "data": {
      "text/plain": [
       "'px-4 py-2 flex border-4 border-opacity-30 border-black bg-slate-800 hover:bg-slate-700 focus:text-slate-800 hover:sm:text-slate-300 border-gray-700 py-8 -inset-1'"
      ]
     },
     "execution_count": 9,
     "metadata": {},
     "output_type": "execute_result"
    }
   ],
   "source": [
    "# Try multiple classes whose prefixes are matched by some of the classes in\n",
    "# `current_classes`. Looking for multiple warnings to show.\n",
    "update_utility_classes(\n",
    "    current_classes=current_classes_example,\n",
    "    add_classes=[\"border-gray-700\", \"py-8\", \"-inset-1\"],\n",
    ")"
   ]
  },
  {
   "cell_type": "code",
   "execution_count": 10,
   "id": "d3785695-5737-4da0-b5ba-48a54b9753fa",
   "metadata": {},
   "outputs": [
    {
     "data": {
      "text/plain": [
       "'px-4 py-2 flex border-4 border-opacity-30 border-black bg-slate-800 hover:bg-slate-700 focus:text-slate-800 hover:sm:text-slate-300 border-gray-700 py-8 -inset-1'"
      ]
     },
     "execution_count": 10,
     "metadata": {},
     "output_type": "execute_result"
    }
   ],
   "source": [
    "# Suppress the warning.\n",
    "update_utility_classes(\n",
    "    current_classes=current_classes_example,\n",
    "    add_classes=[\"border-gray-700\", \"py-8\", \"-inset-1\"],\n",
    "    ignore_prefix_warning=True,\n",
    ")"
   ]
  },
  {
   "cell_type": "markdown",
   "id": "b7e1b775-0a34-4802-817f-d91354757d50",
   "metadata": {},
   "source": [
    "#### Test Expected Input Conditions"
   ]
  },
  {
   "cell_type": "code",
   "execution_count": 11,
   "id": "9840b36a-2cc5-4089-8844-7af56c752423",
   "metadata": {},
   "outputs": [
    {
     "name": "stdout",
     "output_type": "stream",
     "text": [
      "`current_classes`: 'px-4 py-2 flex border-4 border-opacity-30 border-black bg-slate-800 hover:bg-slate-700 focus:text-slate-800 hover:sm:text-slate-300'\n",
      "\n",
      "`remove_classes`: ['py-2', 'hover:bg-slate-700']\n",
      "return value:\n",
      "'px-4 flex border-4 border-opacity-30 border-black bg-slate-800 focus:text-slate-800 hover:sm:text-slate-300'\n",
      "\n",
      "`remove_classes`: []\n",
      "no change in `current_classes`: True\n",
      "\n"
     ]
    }
   ],
   "source": [
    "# Try removes.\n",
    "rm_cls1 = [\"py-2\", \"hover:bg-slate-700\"]\n",
    "rm_cls2 = []\n",
    "\n",
    "rm1 = update_utility_classes(\n",
    "    current_classes=current_classes_example,\n",
    "    remove_classes=rm_cls1,\n",
    ")\n",
    "rm2 = update_utility_classes(\n",
    "    current_classes=current_classes_example,\n",
    "    remove_classes=rm_cls2,\n",
    ")\n",
    "\n",
    "print(f\"`current_classes`: '{current_classes_example}'\\n\")\n",
    "\n",
    "print(f\"`remove_classes`: {rm_cls1}\\n\" f\"return value:\\n'{rm1}'\\n\")\n",
    "\n",
    "print(\n",
    "    f\"`remove_classes`: {rm_cls2}\\n\"\n",
    "    f\"no change in `current_classes`: {rm2 == current_classes_example}\\n\"\n",
    ")"
   ]
  },
  {
   "cell_type": "code",
   "execution_count": 12,
   "id": "7ffa7c5f-237e-4fe9-8fc8-a1628a41dd98",
   "metadata": {},
   "outputs": [
    {
     "name": "stdout",
     "output_type": "stream",
     "text": [
      "`current_classes`: 'px-4 py-2 flex border-4 border-opacity-30 border-black bg-slate-800 hover:bg-slate-700 focus:text-slate-800 hover:sm:text-slate-300'\n",
      "\n",
      "`add_classes`: ['pt-8', 'columns-4']\n",
      "return value:\n",
      "'px-4 py-2 flex border-4 border-opacity-30 border-black bg-slate-800 hover:bg-slate-700 focus:text-slate-800 hover:sm:text-slate-300 pt-8 columns-4'\n",
      "\n",
      "`add_classes`: []\n",
      "no change in `current_classes`: True\n",
      "\n"
     ]
    }
   ],
   "source": [
    "# Try adds.\n",
    "add_cls1 = [\"pt-8\", \"columns-4\"]\n",
    "add_cls2 = []\n",
    "\n",
    "add1 = update_utility_classes(\n",
    "    current_classes=current_classes_example,\n",
    "    add_classes=add_cls1,\n",
    ")\n",
    "add2 = update_utility_classes(\n",
    "    current_classes=current_classes_example,\n",
    "    add_classes=add_cls2,\n",
    ")\n",
    "\n",
    "print(f\"`current_classes`: '{current_classes_example}'\\n\")\n",
    "\n",
    "print(f\"`add_classes`: {add_cls1}\\n\" f\"return value:\\n'{add1}'\\n\")\n",
    "\n",
    "print(\n",
    "    f\"`add_classes`: {add_cls2}\\n\"\n",
    "    f\"no change in `current_classes`: {add2 == current_classes_example}\\n\"\n",
    ")"
   ]
  },
  {
   "cell_type": "code",
   "execution_count": 13,
   "id": "b1e91838-b95d-4d5b-92b8-43cd7ec64581",
   "metadata": {
    "tags": []
   },
   "outputs": [
    {
     "name": "stdout",
     "output_type": "stream",
     "text": [
      "`current_classes`: 'px-4 py-2 flex border-4 border-opacity-30 border-black bg-slate-800 hover:bg-slate-700 focus:text-slate-800 hover:sm:text-slate-300'\n",
      "\n",
      "`remove_classes`: ['py-2', 'hover:bg-slate-700']\n",
      "`add_classes`: ['pt-8', 'columns-4']\n",
      "return value:\n",
      "'px-4 flex border-4 border-opacity-30 border-black bg-slate-800 focus:text-slate-800 hover:sm:text-slate-300 pt-8 columns-4'\n",
      "\n",
      "`remove_classes`: []\n",
      "`add_classes`: ['pt-8', 'columns-4']\n",
      "return value:\n",
      "'px-4 py-2 flex border-4 border-opacity-30 border-black bg-slate-800 hover:bg-slate-700 focus:text-slate-800 hover:sm:text-slate-300 pt-8 columns-4'\n",
      "\n",
      "`remove_classes`: ['py-2', 'hover:bg-slate-700']\n",
      "`add_classes`: []\n",
      "return value:\n",
      "'px-4 flex border-4 border-opacity-30 border-black bg-slate-800 focus:text-slate-800 hover:sm:text-slate-300'\n",
      "\n",
      "`remove_classes`: []\n",
      "`add_classes`: []\n",
      "no change in `current_classes`: True\n",
      "\n"
     ]
    }
   ],
   "source": [
    "# Try both removes and adds.\n",
    "add_cls1 = [\"pt-8\", \"columns-4\"]\n",
    "add_cls2 = []\n",
    "rm_cls1 = [\"py-2\", \"hover:bg-slate-700\"]\n",
    "rm_cls2 = []\n",
    "\n",
    "both1 = update_utility_classes(\n",
    "    current_classes=current_classes_example,\n",
    "    remove_classes=rm_cls1,\n",
    "    add_classes=add_cls1,\n",
    ")\n",
    "both2 = update_utility_classes(\n",
    "    current_classes=current_classes_example,\n",
    "    remove_classes=rm_cls2,\n",
    "    add_classes=add_cls1,\n",
    ")\n",
    "both3 = update_utility_classes(\n",
    "    current_classes=current_classes_example,\n",
    "    remove_classes=rm_cls1,\n",
    "    add_classes=add_cls2,\n",
    ")\n",
    "both4 = update_utility_classes(\n",
    "    current_classes=current_classes_example,\n",
    "    remove_classes=rm_cls2,\n",
    "    add_classes=add_cls2,\n",
    ")\n",
    "\n",
    "print(f\"`current_classes`: '{current_classes_example}'\\n\")\n",
    "\n",
    "print(\n",
    "    f\"`remove_classes`: {rm_cls1}\\n\"\n",
    "    f\"`add_classes`: {add_cls1}\\n\"\n",
    "    f\"return value:\\n'{both1}'\\n\"\n",
    ")\n",
    "\n",
    "print(\n",
    "    f\"`remove_classes`: {rm_cls2}\\n\"\n",
    "    f\"`add_classes`: {add_cls1}\\n\"\n",
    "    f\"return value:\\n'{both2}'\\n\"\n",
    ")\n",
    "\n",
    "print(\n",
    "    f\"`remove_classes`: {rm_cls1}\\n\"\n",
    "    f\"`add_classes`: {add_cls2}\\n\"\n",
    "    f\"return value:\\n'{both3}'\\n\"\n",
    ")\n",
    "\n",
    "print(\n",
    "    f\"`remove_classes`: {rm_cls2}\\n\"\n",
    "    f\"`add_classes`: {add_cls2}\\n\"\n",
    "    f\"no change in `current_classes`: {both4 == current_classes_example}\\n\"\n",
    ")"
   ]
  },
  {
   "cell_type": "code",
   "execution_count": 14,
   "id": "cd32250e-6233-41fa-a211-a4dcc82c9584",
   "metadata": {
    "tags": []
   },
   "outputs": [
    {
     "name": "stderr",
     "output_type": "stream",
     "text": [
      "WARNING: Upon adding the string 'inset-3', the following class(es) with the same prefix 'inset' were found within the `current_classes` string: ['-inset-1']\n",
      "If this addition does not result in conflicts, this warning can be suppressed by setting the `ignore_prefix_warning` argument to True.\n",
      "\n",
      "WARNING: Upon adding the string '-inset-1', the following class(es) with the same prefix 'inset' were found within the `current_classes` string: ['inset-3']\n",
      "If this addition does not result in conflicts, this warning can be suppressed by setting the `ignore_prefix_warning` argument to True.\n",
      "\n",
      "WARNING: Upon adding the string 'hover:sm:text-left', the following class(es) with the same prefix 'hover:sm:text' were found within the `current_classes` string: ['hover:sm:text-slate-300']\n",
      "If this addition does not result in conflicts, this warning can be suppressed by setting the `ignore_prefix_warning` argument to True.\n",
      "\n"
     ]
    },
    {
     "name": "stdout",
     "output_type": "stream",
     "text": [
      "`current_classes`: 'px-4 py-2 flex border-4 border-opacity-30 border-black bg-slate-800 hover:bg-slate-700 focus:text-slate-800 hover:sm:text-slate-300'\n",
      "\n",
      "`add_classes`: ['inset-3']\n",
      "return value:\n",
      "'px-4 py-2 flex border-4 border-opacity-30 border-black bg-slate-800 hover:bg-slate-700 focus:text-slate-800 hover:sm:text-slate-300 -inset-1 inset-3'\n",
      "\n",
      "`add_classes`: ['-inset-1']\n",
      "return value:\n",
      "'px-4 py-2 flex border-4 border-opacity-30 border-black bg-slate-800 hover:bg-slate-700 focus:text-slate-800 hover:sm:text-slate-300 inset-3 -inset-1'\n",
      "\n",
      "`add_classes`: ['hover:sm:text-left']\n",
      "return value:\n",
      "'px-4 py-2 flex border-4 border-opacity-30 border-black bg-slate-800 hover:bg-slate-700 focus:text-slate-800 hover:sm:text-slate-300 hover:sm:text-left'\n",
      "\n"
     ]
    }
   ],
   "source": [
    "# Try adding classes with a leading '-'.\n",
    "ex1 = current_classes_example + \" -inset-1\"\n",
    "ex2 = current_classes_example + \" inset-3\"\n",
    "\n",
    "\n",
    "add_cls1 = [\"inset-3\"]\n",
    "add_cls2 = [\"-inset-1\"]\n",
    "add_cls3 = [\"hover:sm:text-left\"]\n",
    "\n",
    "both1 = update_utility_classes(\n",
    "    current_classes=ex1,\n",
    "    add_classes=add_cls1,\n",
    ")\n",
    "both2 = update_utility_classes(\n",
    "    current_classes=ex2,\n",
    "    add_classes=add_cls2,\n",
    ")\n",
    "both3 = update_utility_classes(\n",
    "    current_classes=current_classes_example,\n",
    "    add_classes=add_cls3,\n",
    "    # ignore_prefix_warning=True,\n",
    ")\n",
    "\n",
    "print(f\"`current_classes`: '{current_classes_example}'\\n\")\n",
    "\n",
    "print(f\"`add_classes`: {add_cls1}\\n\" f\"return value:\\n'{both1}'\\n\")\n",
    "\n",
    "print(f\"`add_classes`: {add_cls2}\\n\" f\"return value:\\n'{both2}'\\n\")\n",
    "\n",
    "print(f\"`add_classes`: {add_cls3}\\n\" f\"return value:\\n'{both3}'\\n\")"
   ]
  },
  {
   "cell_type": "code",
   "execution_count": 15,
   "id": "d5aee7ea-2cde-4db1-8d61-ff2132f2ac1e",
   "metadata": {
    "tags": []
   },
   "outputs": [],
   "source": [
    "# Prefixes that are not currently captured correctly.\n",
    "# Prefix captured: 'motion', correct prefix: 'motion-safe:hover:-translate'\n",
    "ex1 = \"motion-safe:hover:-translate-x-0.5\"\n",
    "# Prefix captured: 'supports', correct prefix: 'supports-[backdrop-filter]:bg'\n",
    "ex2 = \"supports-[backdrop-filter]:bg-black/25\""
   ]
  },
  {
   "cell_type": "code",
   "execution_count": 16,
   "id": "f4ff25d2-be49-4261-b21d-8b44fea01955",
   "metadata": {
    "tags": []
   },
   "outputs": [
    {
     "data": {
      "text/plain": [
       "{'px-4': 'px',\n",
       " 'flex': 'flex',\n",
       " 'border-4': 'border',\n",
       " 'border-opacity-30': 'border',\n",
       " 'border-black': 'border',\n",
       " 'bg-slate-800': 'bg',\n",
       " 'hover:bg-slate-700': 'hover:bg',\n",
       " 'focus:text-slate-800': 'focus:text',\n",
       " 'hover:sm:text-slate-300': 'hover:sm:text',\n",
       " 'inset-3': 'inset',\n",
       " '-inset-1': 'inset',\n",
       " 'motion-safe:hover:-translate-x-0.5': 'motion-safe:hover:translate',\n",
       " 'supports-[backdrop-filter]:bg-black/25': 'supports-[backdrop-filter]:bg'}"
      ]
     },
     "execution_count": 16,
     "metadata": {},
     "output_type": "execute_result"
    }
   ],
   "source": [
    "{\n",
    "    \"px-4\": \"px\",\n",
    "    \"flex\": \"flex\",\n",
    "    \"border-4\": \"border\",\n",
    "    \"border-opacity-30\": \"border\",\n",
    "    \"border-black\": \"border\",\n",
    "    \"bg-slate-800\": \"bg\",\n",
    "    \"hover:bg-slate-700\": \"hover:bg\",\n",
    "    \"focus:text-slate-800\": \"focus:text\",\n",
    "    \"hover:sm:text-slate-300\": \"hover:sm:text\",\n",
    "    \"inset-3\": \"inset\",\n",
    "    \"-inset-1\": \"inset\",\n",
    "    \"motion-safe:hover:-translate-x-0.5\": \"motion-safe:hover:translate\",\n",
    "    \"supports-[backdrop-filter]:bg-black/25\": \"supports-[backdrop-filter]:bg\",\n",
    "}"
   ]
  },
  {
   "cell_type": "code",
   "execution_count": null,
   "id": "74528089-ea9a-4c40-968d-5ac6ae337c55",
   "metadata": {},
   "outputs": [],
   "source": []
  }
 ],
 "metadata": {
  "kernelspec": {
   "display_name": "dta",
   "language": "python",
   "name": "dta"
  },
  "language_info": {
   "codemirror_mode": {
    "name": "ipython",
    "version": 3
   },
   "file_extension": ".py",
   "mimetype": "text/x-python",
   "name": "python",
   "nbconvert_exporter": "python",
   "pygments_lexer": "ipython3",
   "version": "3.10.8"
  }
 },
 "nbformat": 4,
 "nbformat_minor": 5
}
